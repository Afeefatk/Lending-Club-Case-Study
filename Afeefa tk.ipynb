{
  "cells": [
    {
      "cell_type": "markdown",
      "id": "2fac1862",
      "metadata": {
        "id": "2fac1862"
      },
      "source": [
        "# Lending club case Study"
      ]
    },
    {
      "cell_type": "code",
      "execution_count": null,
      "id": "f0eb6f7a",
      "metadata": {
        "id": "f0eb6f7a"
      },
      "outputs": [],
      "source": []
    },
    {
      "cell_type": "code",
      "execution_count": null,
      "id": "995e0ab7",
      "metadata": {
        "id": "995e0ab7"
      },
      "outputs": [],
      "source": [
        "\n",
        "\n",
        "import pandas as pd\n",
        "import numpy as np\n",
        "import matplotlib.pyplot as plt\n",
        "%matplotlib inline\n",
        "import seaborn as sns\n",
        "import warnings\n",
        "warnings.filterwarnings (action='ignore')"
      ]
    },
    {
      "cell_type": "code",
      "source": [
        "#Accessing Google Drive from Google colab\n",
        "#You can use the drive module from google.colab to mount your entire Google Drive to Colab\n",
        "#Executing the below code , some messages will be prompted:\n",
        "#Select the Google Drive Account you want to mount \n",
        "#Select “Allow” \n",
        "#Once the Drive is mounted, you’ll get the message “Mounted at /content/gdrive”, and you’ll be able to browse through the contents of your Drive from the file-explorer pane.\n",
        "\n",
        "from google.colab import drive\n",
        "drive.mount('/content/drive')"
      ],
      "metadata": {
        "colab": {
          "base_uri": "https://localhost:8080/"
        },
        "id": "tbSlJ-xIWgHz",
        "outputId": "412e1a3c-719f-4053-b4d6-386bd0371f34"
      },
      "id": "tbSlJ-xIWgHz",
      "execution_count": null,
      "outputs": [
        {
          "output_type": "stream",
          "name": "stdout",
          "text": [
            "Mounted at /content/drive\n"
          ]
        }
      ]
    },
    {
      "cell_type": "code",
      "source": [
        "# Get path of csv file\n",
        "path = \"/content/drive/MyDrive/Colab Notebooks/loan.csv\""
      ],
      "metadata": {
        "id": "JTFiMxjrWjEf"
      },
      "id": "JTFiMxjrWjEf",
      "execution_count": null,
      "outputs": []
    },
    {
      "cell_type": "code",
      "source": [
        "#Importing the data\n",
        "df0 = pd.read_csv(path)\n",
        "df0.info()"
      ],
      "metadata": {
        "colab": {
          "base_uri": "https://localhost:8080/"
        },
        "id": "0pRWe8zCWmPm",
        "outputId": "eb3432cc-3d5d-4a31-f03f-2e51b16f4f15"
      },
      "id": "0pRWe8zCWmPm",
      "execution_count": null,
      "outputs": [
        {
          "output_type": "stream",
          "name": "stdout",
          "text": [
            "<class 'pandas.core.frame.DataFrame'>\n",
            "RangeIndex: 39717 entries, 0 to 39716\n",
            "Columns: 111 entries, id to total_il_high_credit_limit\n",
            "dtypes: float64(74), int64(13), object(24)\n",
            "memory usage: 33.6+ MB\n"
          ]
        }
      ]
    },
    {
      "cell_type": "code",
      "execution_count": null,
      "id": "ca677210",
      "metadata": {
        "id": "ca677210"
      },
      "outputs": [],
      "source": [
        "\n",
        "##df0  = pd.read_csv(\"file:///E:/Lending%20club/loan.csv\")\n",
        "##df0.info()"
      ]
    },
    {
      "cell_type": "code",
      "execution_count": null,
      "id": "309723e1",
      "metadata": {
        "colab": {
          "base_uri": "https://localhost:8080/",
          "height": 661
        },
        "id": "309723e1",
        "outputId": "7fa4207e-8156-4b68-99b8-a76143544a95"
      },
      "outputs": [
        {
          "output_type": "execute_result",
          "data": {
            "text/plain": [
              "            id  member_id  loan_amnt  funded_amnt  funded_amnt_inv  \\\n",
              "0      1077501    1296599       5000         5000           4975.0   \n",
              "1      1077430    1314167       2500         2500           2500.0   \n",
              "2      1077175    1313524       2400         2400           2400.0   \n",
              "3      1076863    1277178      10000        10000          10000.0   \n",
              "4      1075358    1311748       3000         3000           3000.0   \n",
              "...        ...        ...        ...          ...              ...   \n",
              "39712    92187      92174       2500         2500           1075.0   \n",
              "39713    90665      90607       8500         8500            875.0   \n",
              "39714    90395      90390       5000         5000           1325.0   \n",
              "39715    90376      89243       5000         5000            650.0   \n",
              "39716    87023      86999       7500         7500            800.0   \n",
              "\n",
              "             term int_rate  installment grade sub_grade  ...  \\\n",
              "0       36 months   10.65%       162.87     B        B2  ...   \n",
              "1       60 months   15.27%        59.83     C        C4  ...   \n",
              "2       36 months   15.96%        84.33     C        C5  ...   \n",
              "3       36 months   13.49%       339.31     C        C1  ...   \n",
              "4       60 months   12.69%        67.79     B        B5  ...   \n",
              "...           ...      ...          ...   ...       ...  ...   \n",
              "39712   36 months    8.07%        78.42     A        A4  ...   \n",
              "39713   36 months   10.28%       275.38     C        C1  ...   \n",
              "39714   36 months    8.07%       156.84     A        A4  ...   \n",
              "39715   36 months    7.43%       155.38     A        A2  ...   \n",
              "39716   36 months   13.75%       255.43     E        E2  ...   \n",
              "\n",
              "      num_tl_90g_dpd_24m num_tl_op_past_12m pct_tl_nvr_dlq  percent_bc_gt_75  \\\n",
              "0                    NaN                NaN            NaN               NaN   \n",
              "1                    NaN                NaN            NaN               NaN   \n",
              "2                    NaN                NaN            NaN               NaN   \n",
              "3                    NaN                NaN            NaN               NaN   \n",
              "4                    NaN                NaN            NaN               NaN   \n",
              "...                  ...                ...            ...               ...   \n",
              "39712                NaN                NaN            NaN               NaN   \n",
              "39713                NaN                NaN            NaN               NaN   \n",
              "39714                NaN                NaN            NaN               NaN   \n",
              "39715                NaN                NaN            NaN               NaN   \n",
              "39716                NaN                NaN            NaN               NaN   \n",
              "\n",
              "      pub_rec_bankruptcies tax_liens tot_hi_cred_lim total_bal_ex_mort  \\\n",
              "0                      0.0       0.0             NaN               NaN   \n",
              "1                      0.0       0.0             NaN               NaN   \n",
              "2                      0.0       0.0             NaN               NaN   \n",
              "3                      0.0       0.0             NaN               NaN   \n",
              "4                      0.0       0.0             NaN               NaN   \n",
              "...                    ...       ...             ...               ...   \n",
              "39712                  NaN       NaN             NaN               NaN   \n",
              "39713                  NaN       NaN             NaN               NaN   \n",
              "39714                  NaN       NaN             NaN               NaN   \n",
              "39715                  NaN       NaN             NaN               NaN   \n",
              "39716                  NaN       NaN             NaN               NaN   \n",
              "\n",
              "      total_bc_limit total_il_high_credit_limit  \n",
              "0                NaN                        NaN  \n",
              "1                NaN                        NaN  \n",
              "2                NaN                        NaN  \n",
              "3                NaN                        NaN  \n",
              "4                NaN                        NaN  \n",
              "...              ...                        ...  \n",
              "39712            NaN                        NaN  \n",
              "39713            NaN                        NaN  \n",
              "39714            NaN                        NaN  \n",
              "39715            NaN                        NaN  \n",
              "39716            NaN                        NaN  \n",
              "\n",
              "[39717 rows x 111 columns]"
            ],
            "text/html": [
              "\n",
              "  <div id=\"df-77e9a5b4-bef6-4d50-8748-f9986c01c73f\">\n",
              "    <div class=\"colab-df-container\">\n",
              "      <div>\n",
              "<style scoped>\n",
              "    .dataframe tbody tr th:only-of-type {\n",
              "        vertical-align: middle;\n",
              "    }\n",
              "\n",
              "    .dataframe tbody tr th {\n",
              "        vertical-align: top;\n",
              "    }\n",
              "\n",
              "    .dataframe thead th {\n",
              "        text-align: right;\n",
              "    }\n",
              "</style>\n",
              "<table border=\"1\" class=\"dataframe\">\n",
              "  <thead>\n",
              "    <tr style=\"text-align: right;\">\n",
              "      <th></th>\n",
              "      <th>id</th>\n",
              "      <th>member_id</th>\n",
              "      <th>loan_amnt</th>\n",
              "      <th>funded_amnt</th>\n",
              "      <th>funded_amnt_inv</th>\n",
              "      <th>term</th>\n",
              "      <th>int_rate</th>\n",
              "      <th>installment</th>\n",
              "      <th>grade</th>\n",
              "      <th>sub_grade</th>\n",
              "      <th>...</th>\n",
              "      <th>num_tl_90g_dpd_24m</th>\n",
              "      <th>num_tl_op_past_12m</th>\n",
              "      <th>pct_tl_nvr_dlq</th>\n",
              "      <th>percent_bc_gt_75</th>\n",
              "      <th>pub_rec_bankruptcies</th>\n",
              "      <th>tax_liens</th>\n",
              "      <th>tot_hi_cred_lim</th>\n",
              "      <th>total_bal_ex_mort</th>\n",
              "      <th>total_bc_limit</th>\n",
              "      <th>total_il_high_credit_limit</th>\n",
              "    </tr>\n",
              "  </thead>\n",
              "  <tbody>\n",
              "    <tr>\n",
              "      <th>0</th>\n",
              "      <td>1077501</td>\n",
              "      <td>1296599</td>\n",
              "      <td>5000</td>\n",
              "      <td>5000</td>\n",
              "      <td>4975.0</td>\n",
              "      <td>36 months</td>\n",
              "      <td>10.65%</td>\n",
              "      <td>162.87</td>\n",
              "      <td>B</td>\n",
              "      <td>B2</td>\n",
              "      <td>...</td>\n",
              "      <td>NaN</td>\n",
              "      <td>NaN</td>\n",
              "      <td>NaN</td>\n",
              "      <td>NaN</td>\n",
              "      <td>0.0</td>\n",
              "      <td>0.0</td>\n",
              "      <td>NaN</td>\n",
              "      <td>NaN</td>\n",
              "      <td>NaN</td>\n",
              "      <td>NaN</td>\n",
              "    </tr>\n",
              "    <tr>\n",
              "      <th>1</th>\n",
              "      <td>1077430</td>\n",
              "      <td>1314167</td>\n",
              "      <td>2500</td>\n",
              "      <td>2500</td>\n",
              "      <td>2500.0</td>\n",
              "      <td>60 months</td>\n",
              "      <td>15.27%</td>\n",
              "      <td>59.83</td>\n",
              "      <td>C</td>\n",
              "      <td>C4</td>\n",
              "      <td>...</td>\n",
              "      <td>NaN</td>\n",
              "      <td>NaN</td>\n",
              "      <td>NaN</td>\n",
              "      <td>NaN</td>\n",
              "      <td>0.0</td>\n",
              "      <td>0.0</td>\n",
              "      <td>NaN</td>\n",
              "      <td>NaN</td>\n",
              "      <td>NaN</td>\n",
              "      <td>NaN</td>\n",
              "    </tr>\n",
              "    <tr>\n",
              "      <th>2</th>\n",
              "      <td>1077175</td>\n",
              "      <td>1313524</td>\n",
              "      <td>2400</td>\n",
              "      <td>2400</td>\n",
              "      <td>2400.0</td>\n",
              "      <td>36 months</td>\n",
              "      <td>15.96%</td>\n",
              "      <td>84.33</td>\n",
              "      <td>C</td>\n",
              "      <td>C5</td>\n",
              "      <td>...</td>\n",
              "      <td>NaN</td>\n",
              "      <td>NaN</td>\n",
              "      <td>NaN</td>\n",
              "      <td>NaN</td>\n",
              "      <td>0.0</td>\n",
              "      <td>0.0</td>\n",
              "      <td>NaN</td>\n",
              "      <td>NaN</td>\n",
              "      <td>NaN</td>\n",
              "      <td>NaN</td>\n",
              "    </tr>\n",
              "    <tr>\n",
              "      <th>3</th>\n",
              "      <td>1076863</td>\n",
              "      <td>1277178</td>\n",
              "      <td>10000</td>\n",
              "      <td>10000</td>\n",
              "      <td>10000.0</td>\n",
              "      <td>36 months</td>\n",
              "      <td>13.49%</td>\n",
              "      <td>339.31</td>\n",
              "      <td>C</td>\n",
              "      <td>C1</td>\n",
              "      <td>...</td>\n",
              "      <td>NaN</td>\n",
              "      <td>NaN</td>\n",
              "      <td>NaN</td>\n",
              "      <td>NaN</td>\n",
              "      <td>0.0</td>\n",
              "      <td>0.0</td>\n",
              "      <td>NaN</td>\n",
              "      <td>NaN</td>\n",
              "      <td>NaN</td>\n",
              "      <td>NaN</td>\n",
              "    </tr>\n",
              "    <tr>\n",
              "      <th>4</th>\n",
              "      <td>1075358</td>\n",
              "      <td>1311748</td>\n",
              "      <td>3000</td>\n",
              "      <td>3000</td>\n",
              "      <td>3000.0</td>\n",
              "      <td>60 months</td>\n",
              "      <td>12.69%</td>\n",
              "      <td>67.79</td>\n",
              "      <td>B</td>\n",
              "      <td>B5</td>\n",
              "      <td>...</td>\n",
              "      <td>NaN</td>\n",
              "      <td>NaN</td>\n",
              "      <td>NaN</td>\n",
              "      <td>NaN</td>\n",
              "      <td>0.0</td>\n",
              "      <td>0.0</td>\n",
              "      <td>NaN</td>\n",
              "      <td>NaN</td>\n",
              "      <td>NaN</td>\n",
              "      <td>NaN</td>\n",
              "    </tr>\n",
              "    <tr>\n",
              "      <th>...</th>\n",
              "      <td>...</td>\n",
              "      <td>...</td>\n",
              "      <td>...</td>\n",
              "      <td>...</td>\n",
              "      <td>...</td>\n",
              "      <td>...</td>\n",
              "      <td>...</td>\n",
              "      <td>...</td>\n",
              "      <td>...</td>\n",
              "      <td>...</td>\n",
              "      <td>...</td>\n",
              "      <td>...</td>\n",
              "      <td>...</td>\n",
              "      <td>...</td>\n",
              "      <td>...</td>\n",
              "      <td>...</td>\n",
              "      <td>...</td>\n",
              "      <td>...</td>\n",
              "      <td>...</td>\n",
              "      <td>...</td>\n",
              "      <td>...</td>\n",
              "    </tr>\n",
              "    <tr>\n",
              "      <th>39712</th>\n",
              "      <td>92187</td>\n",
              "      <td>92174</td>\n",
              "      <td>2500</td>\n",
              "      <td>2500</td>\n",
              "      <td>1075.0</td>\n",
              "      <td>36 months</td>\n",
              "      <td>8.07%</td>\n",
              "      <td>78.42</td>\n",
              "      <td>A</td>\n",
              "      <td>A4</td>\n",
              "      <td>...</td>\n",
              "      <td>NaN</td>\n",
              "      <td>NaN</td>\n",
              "      <td>NaN</td>\n",
              "      <td>NaN</td>\n",
              "      <td>NaN</td>\n",
              "      <td>NaN</td>\n",
              "      <td>NaN</td>\n",
              "      <td>NaN</td>\n",
              "      <td>NaN</td>\n",
              "      <td>NaN</td>\n",
              "    </tr>\n",
              "    <tr>\n",
              "      <th>39713</th>\n",
              "      <td>90665</td>\n",
              "      <td>90607</td>\n",
              "      <td>8500</td>\n",
              "      <td>8500</td>\n",
              "      <td>875.0</td>\n",
              "      <td>36 months</td>\n",
              "      <td>10.28%</td>\n",
              "      <td>275.38</td>\n",
              "      <td>C</td>\n",
              "      <td>C1</td>\n",
              "      <td>...</td>\n",
              "      <td>NaN</td>\n",
              "      <td>NaN</td>\n",
              "      <td>NaN</td>\n",
              "      <td>NaN</td>\n",
              "      <td>NaN</td>\n",
              "      <td>NaN</td>\n",
              "      <td>NaN</td>\n",
              "      <td>NaN</td>\n",
              "      <td>NaN</td>\n",
              "      <td>NaN</td>\n",
              "    </tr>\n",
              "    <tr>\n",
              "      <th>39714</th>\n",
              "      <td>90395</td>\n",
              "      <td>90390</td>\n",
              "      <td>5000</td>\n",
              "      <td>5000</td>\n",
              "      <td>1325.0</td>\n",
              "      <td>36 months</td>\n",
              "      <td>8.07%</td>\n",
              "      <td>156.84</td>\n",
              "      <td>A</td>\n",
              "      <td>A4</td>\n",
              "      <td>...</td>\n",
              "      <td>NaN</td>\n",
              "      <td>NaN</td>\n",
              "      <td>NaN</td>\n",
              "      <td>NaN</td>\n",
              "      <td>NaN</td>\n",
              "      <td>NaN</td>\n",
              "      <td>NaN</td>\n",
              "      <td>NaN</td>\n",
              "      <td>NaN</td>\n",
              "      <td>NaN</td>\n",
              "    </tr>\n",
              "    <tr>\n",
              "      <th>39715</th>\n",
              "      <td>90376</td>\n",
              "      <td>89243</td>\n",
              "      <td>5000</td>\n",
              "      <td>5000</td>\n",
              "      <td>650.0</td>\n",
              "      <td>36 months</td>\n",
              "      <td>7.43%</td>\n",
              "      <td>155.38</td>\n",
              "      <td>A</td>\n",
              "      <td>A2</td>\n",
              "      <td>...</td>\n",
              "      <td>NaN</td>\n",
              "      <td>NaN</td>\n",
              "      <td>NaN</td>\n",
              "      <td>NaN</td>\n",
              "      <td>NaN</td>\n",
              "      <td>NaN</td>\n",
              "      <td>NaN</td>\n",
              "      <td>NaN</td>\n",
              "      <td>NaN</td>\n",
              "      <td>NaN</td>\n",
              "    </tr>\n",
              "    <tr>\n",
              "      <th>39716</th>\n",
              "      <td>87023</td>\n",
              "      <td>86999</td>\n",
              "      <td>7500</td>\n",
              "      <td>7500</td>\n",
              "      <td>800.0</td>\n",
              "      <td>36 months</td>\n",
              "      <td>13.75%</td>\n",
              "      <td>255.43</td>\n",
              "      <td>E</td>\n",
              "      <td>E2</td>\n",
              "      <td>...</td>\n",
              "      <td>NaN</td>\n",
              "      <td>NaN</td>\n",
              "      <td>NaN</td>\n",
              "      <td>NaN</td>\n",
              "      <td>NaN</td>\n",
              "      <td>NaN</td>\n",
              "      <td>NaN</td>\n",
              "      <td>NaN</td>\n",
              "      <td>NaN</td>\n",
              "      <td>NaN</td>\n",
              "    </tr>\n",
              "  </tbody>\n",
              "</table>\n",
              "<p>39717 rows × 111 columns</p>\n",
              "</div>\n",
              "      <button class=\"colab-df-convert\" onclick=\"convertToInteractive('df-77e9a5b4-bef6-4d50-8748-f9986c01c73f')\"\n",
              "              title=\"Convert this dataframe to an interactive table.\"\n",
              "              style=\"display:none;\">\n",
              "        \n",
              "  <svg xmlns=\"http://www.w3.org/2000/svg\" height=\"24px\"viewBox=\"0 0 24 24\"\n",
              "       width=\"24px\">\n",
              "    <path d=\"M0 0h24v24H0V0z\" fill=\"none\"/>\n",
              "    <path d=\"M18.56 5.44l.94 2.06.94-2.06 2.06-.94-2.06-.94-.94-2.06-.94 2.06-2.06.94zm-11 1L8.5 8.5l.94-2.06 2.06-.94-2.06-.94L8.5 2.5l-.94 2.06-2.06.94zm10 10l.94 2.06.94-2.06 2.06-.94-2.06-.94-.94-2.06-.94 2.06-2.06.94z\"/><path d=\"M17.41 7.96l-1.37-1.37c-.4-.4-.92-.59-1.43-.59-.52 0-1.04.2-1.43.59L10.3 9.45l-7.72 7.72c-.78.78-.78 2.05 0 2.83L4 21.41c.39.39.9.59 1.41.59.51 0 1.02-.2 1.41-.59l7.78-7.78 2.81-2.81c.8-.78.8-2.07 0-2.86zM5.41 20L4 18.59l7.72-7.72 1.47 1.35L5.41 20z\"/>\n",
              "  </svg>\n",
              "      </button>\n",
              "      \n",
              "  <style>\n",
              "    .colab-df-container {\n",
              "      display:flex;\n",
              "      flex-wrap:wrap;\n",
              "      gap: 12px;\n",
              "    }\n",
              "\n",
              "    .colab-df-convert {\n",
              "      background-color: #E8F0FE;\n",
              "      border: none;\n",
              "      border-radius: 50%;\n",
              "      cursor: pointer;\n",
              "      display: none;\n",
              "      fill: #1967D2;\n",
              "      height: 32px;\n",
              "      padding: 0 0 0 0;\n",
              "      width: 32px;\n",
              "    }\n",
              "\n",
              "    .colab-df-convert:hover {\n",
              "      background-color: #E2EBFA;\n",
              "      box-shadow: 0px 1px 2px rgba(60, 64, 67, 0.3), 0px 1px 3px 1px rgba(60, 64, 67, 0.15);\n",
              "      fill: #174EA6;\n",
              "    }\n",
              "\n",
              "    [theme=dark] .colab-df-convert {\n",
              "      background-color: #3B4455;\n",
              "      fill: #D2E3FC;\n",
              "    }\n",
              "\n",
              "    [theme=dark] .colab-df-convert:hover {\n",
              "      background-color: #434B5C;\n",
              "      box-shadow: 0px 1px 3px 1px rgba(0, 0, 0, 0.15);\n",
              "      filter: drop-shadow(0px 1px 2px rgba(0, 0, 0, 0.3));\n",
              "      fill: #FFFFFF;\n",
              "    }\n",
              "  </style>\n",
              "\n",
              "      <script>\n",
              "        const buttonEl =\n",
              "          document.querySelector('#df-77e9a5b4-bef6-4d50-8748-f9986c01c73f button.colab-df-convert');\n",
              "        buttonEl.style.display =\n",
              "          google.colab.kernel.accessAllowed ? 'block' : 'none';\n",
              "\n",
              "        async function convertToInteractive(key) {\n",
              "          const element = document.querySelector('#df-77e9a5b4-bef6-4d50-8748-f9986c01c73f');\n",
              "          const dataTable =\n",
              "            await google.colab.kernel.invokeFunction('convertToInteractive',\n",
              "                                                     [key], {});\n",
              "          if (!dataTable) return;\n",
              "\n",
              "          const docLinkHtml = 'Like what you see? Visit the ' +\n",
              "            '<a target=\"_blank\" href=https://colab.research.google.com/notebooks/data_table.ipynb>data table notebook</a>'\n",
              "            + ' to learn more about interactive tables.';\n",
              "          element.innerHTML = '';\n",
              "          dataTable['output_type'] = 'display_data';\n",
              "          await google.colab.output.renderOutput(dataTable, element);\n",
              "          const docLink = document.createElement('div');\n",
              "          docLink.innerHTML = docLinkHtml;\n",
              "          element.appendChild(docLink);\n",
              "        }\n",
              "      </script>\n",
              "    </div>\n",
              "  </div>\n",
              "  "
            ]
          },
          "metadata": {},
          "execution_count": 7
        }
      ],
      "source": [
        "df0.drop_duplicates()"
      ]
    },
    {
      "cell_type": "code",
      "execution_count": null,
      "id": "290f4d57",
      "metadata": {
        "colab": {
          "base_uri": "https://localhost:8080/"
        },
        "id": "290f4d57",
        "outputId": "aace247b-33f5-4dab-b28c-b2915b46d4aa"
      },
      "outputs": [
        {
          "output_type": "execute_result",
          "data": {
            "text/plain": [
              "2263364"
            ]
          },
          "metadata": {},
          "execution_count": 8
        }
      ],
      "source": [
        "df0.isnull().sum().sum()"
      ]
    },
    {
      "cell_type": "code",
      "execution_count": null,
      "id": "e3149425",
      "metadata": {
        "colab": {
          "base_uri": "https://localhost:8080/"
        },
        "id": "e3149425",
        "outputId": "2ee0d0b8-99b6-4eb9-d2a0-4883b195d4bf"
      },
      "outputs": [
        {
          "output_type": "execute_result",
          "data": {
            "text/plain": [
              "(39717, 111)"
            ]
          },
          "metadata": {},
          "execution_count": 9
        }
      ],
      "source": [
        "df0.shape\n"
      ]
    },
    {
      "cell_type": "code",
      "execution_count": null,
      "id": "087a9b69",
      "metadata": {
        "id": "087a9b69"
      },
      "outputs": [],
      "source": [
        "df1=df0\n",
        "df1=df1.dropna(how=\"all\",axis=1)"
      ]
    },
    {
      "cell_type": "code",
      "execution_count": null,
      "id": "e04ed7f2",
      "metadata": {
        "colab": {
          "base_uri": "https://localhost:8080/"
        },
        "id": "e04ed7f2",
        "outputId": "e5219f1f-21b5-4da4-baf0-451b692a43c2"
      },
      "outputs": [
        {
          "output_type": "execute_result",
          "data": {
            "text/plain": [
              "id                                0\n",
              "member_id                         0\n",
              "loan_amnt                         0\n",
              "funded_amnt                       0\n",
              "funded_amnt_inv                   0\n",
              "term                              0\n",
              "int_rate                          0\n",
              "installment                       0\n",
              "grade                             0\n",
              "sub_grade                         0\n",
              "emp_title                      2459\n",
              "emp_length                     1075\n",
              "home_ownership                    0\n",
              "annual_inc                        0\n",
              "verification_status               0\n",
              "issue_d                           0\n",
              "loan_status                       0\n",
              "pymnt_plan                        0\n",
              "url                               0\n",
              "desc                          12940\n",
              "purpose                           0\n",
              "title                            11\n",
              "zip_code                          0\n",
              "addr_state                        0\n",
              "dti                               0\n",
              "delinq_2yrs                       0\n",
              "earliest_cr_line                  0\n",
              "inq_last_6mths                    0\n",
              "mths_since_last_delinq        25682\n",
              "mths_since_last_record        36931\n",
              "open_acc                          0\n",
              "pub_rec                           0\n",
              "revol_bal                         0\n",
              "revol_util                       50\n",
              "total_acc                         0\n",
              "initial_list_status               0\n",
              "out_prncp                         0\n",
              "out_prncp_inv                     0\n",
              "total_pymnt                       0\n",
              "total_pymnt_inv                   0\n",
              "total_rec_prncp                   0\n",
              "total_rec_int                     0\n",
              "total_rec_late_fee                0\n",
              "recoveries                        0\n",
              "collection_recovery_fee           0\n",
              "last_pymnt_d                     71\n",
              "last_pymnt_amnt                   0\n",
              "next_pymnt_d                  38577\n",
              "last_credit_pull_d                2\n",
              "collections_12_mths_ex_med       56\n",
              "policy_code                       0\n",
              "application_type                  0\n",
              "acc_now_delinq                    0\n",
              "chargeoff_within_12_mths         56\n",
              "delinq_amnt                       0\n",
              "pub_rec_bankruptcies            697\n",
              "tax_liens                        39\n",
              "dtype: int64"
            ]
          },
          "metadata": {},
          "execution_count": 11
        }
      ],
      "source": [
        "df1.isnull().sum()"
      ]
    },
    {
      "cell_type": "code",
      "execution_count": null,
      "id": "0859d95d",
      "metadata": {
        "colab": {
          "base_uri": "https://localhost:8080/"
        },
        "id": "0859d95d",
        "outputId": "8c6305c5-37a8-4452-94a1-57c8433f101e"
      },
      "outputs": [
        {
          "output_type": "execute_result",
          "data": {
            "text/plain": [
              "(39717, 57)"
            ]
          },
          "metadata": {},
          "execution_count": 12
        }
      ],
      "source": [
        "df1.shape"
      ]
    },
    {
      "cell_type": "markdown",
      "id": "e91731f0",
      "metadata": {
        "id": "e91731f0"
      },
      "source": [
        "dropping columns with single values(they have only 0 or NA)"
      ]
    },
    {
      "cell_type": "markdown",
      "id": "5f694dc0",
      "metadata": {
        "id": "5f694dc0"
      },
      "source": []
    },
    {
      "cell_type": "code",
      "execution_count": null,
      "id": "fa8df36a",
      "metadata": {
        "id": "fa8df36a"
      },
      "outputs": [],
      "source": [
        "df1.drop([\"recoveries\",\"collection_recovery_fee\",\"policy_code\",\"application_type\",\"acc_now_delinq\",\"chargeoff_within_12_mths\",\n",
        "         \"delinq_amnt\",\"tax_liens\",\"out_prncp\",\"out_prncp_inv\",\"collections_12_mths_ex_med\"],axis=1,inplace=True)"
      ]
    },
    {
      "cell_type": "code",
      "execution_count": null,
      "id": "9a7dd98d",
      "metadata": {
        "colab": {
          "base_uri": "https://localhost:8080/"
        },
        "id": "9a7dd98d",
        "outputId": "25412558-b9cc-4137-d025-d952fa3a6fa5"
      },
      "outputs": [
        {
          "output_type": "execute_result",
          "data": {
            "text/plain": [
              "(39717, 46)"
            ]
          },
          "metadata": {},
          "execution_count": 14
        }
      ],
      "source": [
        "df1.shape"
      ]
    },
    {
      "cell_type": "code",
      "execution_count": null,
      "id": "2d598f48",
      "metadata": {
        "colab": {
          "base_uri": "https://localhost:8080/"
        },
        "id": "2d598f48",
        "outputId": "f83db391-073c-41f0-e0a0-8b751bfe927b"
      },
      "outputs": [
        {
          "output_type": "stream",
          "name": "stdout",
          "text": [
            "<class 'pandas.core.frame.DataFrame'>\n",
            "RangeIndex: 39717 entries, 0 to 39716\n",
            "Data columns (total 46 columns):\n",
            " #   Column                  Non-Null Count  Dtype  \n",
            "---  ------                  --------------  -----  \n",
            " 0   id                      39717 non-null  int64  \n",
            " 1   member_id               39717 non-null  int64  \n",
            " 2   loan_amnt               39717 non-null  int64  \n",
            " 3   funded_amnt             39717 non-null  int64  \n",
            " 4   funded_amnt_inv         39717 non-null  float64\n",
            " 5   term                    39717 non-null  object \n",
            " 6   int_rate                39717 non-null  object \n",
            " 7   installment             39717 non-null  float64\n",
            " 8   grade                   39717 non-null  object \n",
            " 9   sub_grade               39717 non-null  object \n",
            " 10  emp_title               37258 non-null  object \n",
            " 11  emp_length              38642 non-null  object \n",
            " 12  home_ownership          39717 non-null  object \n",
            " 13  annual_inc              39717 non-null  float64\n",
            " 14  verification_status     39717 non-null  object \n",
            " 15  issue_d                 39717 non-null  object \n",
            " 16  loan_status             39717 non-null  object \n",
            " 17  pymnt_plan              39717 non-null  object \n",
            " 18  url                     39717 non-null  object \n",
            " 19  desc                    26777 non-null  object \n",
            " 20  purpose                 39717 non-null  object \n",
            " 21  title                   39706 non-null  object \n",
            " 22  zip_code                39717 non-null  object \n",
            " 23  addr_state              39717 non-null  object \n",
            " 24  dti                     39717 non-null  float64\n",
            " 25  delinq_2yrs             39717 non-null  int64  \n",
            " 26  earliest_cr_line        39717 non-null  object \n",
            " 27  inq_last_6mths          39717 non-null  int64  \n",
            " 28  mths_since_last_delinq  14035 non-null  float64\n",
            " 29  mths_since_last_record  2786 non-null   float64\n",
            " 30  open_acc                39717 non-null  int64  \n",
            " 31  pub_rec                 39717 non-null  int64  \n",
            " 32  revol_bal               39717 non-null  int64  \n",
            " 33  revol_util              39667 non-null  object \n",
            " 34  total_acc               39717 non-null  int64  \n",
            " 35  initial_list_status     39717 non-null  object \n",
            " 36  total_pymnt             39717 non-null  float64\n",
            " 37  total_pymnt_inv         39717 non-null  float64\n",
            " 38  total_rec_prncp         39717 non-null  float64\n",
            " 39  total_rec_int           39717 non-null  float64\n",
            " 40  total_rec_late_fee      39717 non-null  float64\n",
            " 41  last_pymnt_d            39646 non-null  object \n",
            " 42  last_pymnt_amnt         39717 non-null  float64\n",
            " 43  next_pymnt_d            1140 non-null   object \n",
            " 44  last_credit_pull_d      39715 non-null  object \n",
            " 45  pub_rec_bankruptcies    39020 non-null  float64\n",
            "dtypes: float64(13), int64(10), object(23)\n",
            "memory usage: 13.9+ MB\n"
          ]
        }
      ],
      "source": [
        "df1.info()"
      ]
    },
    {
      "cell_type": "markdown",
      "id": "a0fa9984",
      "metadata": {
        "id": "a0fa9984"
      },
      "source": [
        "### Now we have 46 columns out of which some correspond to the post approval of loan\n",
        "\n",
        " \n",
        "- We are analyzing the user details and the driving factors of loan defaulting before approving loan.\n",
        "- So we can safely remove the columns / variables corresponding to that scenario.\n",
        "- droppin columns \"id\", \"member_id\", \"url\", \"title\", \"emp_title\", \"zip_code\", \"last_credit_pull_d\"\n",
        "- dropping description column since we cannot extract any useful infromation from such column"
      ]
    },
    {
      "cell_type": "code",
      "execution_count": null,
      "id": "3d4fb66a",
      "metadata": {
        "id": "3d4fb66a"
      },
      "outputs": [],
      "source": [
        "df1.drop([\"id\", \"member_id\", \"url\", \"title\",\"desc\", \"emp_title\", \"zip_code\", \"last_credit_pull_d\"],axis=1,inplace=True)"
      ]
    },
    {
      "cell_type": "code",
      "execution_count": null,
      "id": "1a5a5e18",
      "metadata": {
        "colab": {
          "base_uri": "https://localhost:8080/"
        },
        "id": "1a5a5e18",
        "outputId": "13a4b2b0-4292-4834-a999-d5fad1df663a"
      },
      "outputs": [
        {
          "output_type": "execute_result",
          "data": {
            "text/plain": [
              "(39717, 38)"
            ]
          },
          "metadata": {},
          "execution_count": 17
        }
      ],
      "source": [
        "df1.shape"
      ]
    },
    {
      "cell_type": "code",
      "execution_count": null,
      "id": "15ef149e",
      "metadata": {
        "colab": {
          "base_uri": "https://localhost:8080/"
        },
        "id": "15ef149e",
        "outputId": "84ac93c1-cdf2-4d5f-fb5a-f73dfdf59cfd"
      },
      "outputs": [
        {
          "output_type": "stream",
          "name": "stdout",
          "text": [
            "<class 'pandas.core.frame.DataFrame'>\n",
            "RangeIndex: 39717 entries, 0 to 39716\n",
            "Data columns (total 38 columns):\n",
            " #   Column                  Non-Null Count  Dtype  \n",
            "---  ------                  --------------  -----  \n",
            " 0   loan_amnt               39717 non-null  int64  \n",
            " 1   funded_amnt             39717 non-null  int64  \n",
            " 2   funded_amnt_inv         39717 non-null  float64\n",
            " 3   term                    39717 non-null  object \n",
            " 4   int_rate                39717 non-null  object \n",
            " 5   installment             39717 non-null  float64\n",
            " 6   grade                   39717 non-null  object \n",
            " 7   sub_grade               39717 non-null  object \n",
            " 8   emp_length              38642 non-null  object \n",
            " 9   home_ownership          39717 non-null  object \n",
            " 10  annual_inc              39717 non-null  float64\n",
            " 11  verification_status     39717 non-null  object \n",
            " 12  issue_d                 39717 non-null  object \n",
            " 13  loan_status             39717 non-null  object \n",
            " 14  pymnt_plan              39717 non-null  object \n",
            " 15  purpose                 39717 non-null  object \n",
            " 16  addr_state              39717 non-null  object \n",
            " 17  dti                     39717 non-null  float64\n",
            " 18  delinq_2yrs             39717 non-null  int64  \n",
            " 19  earliest_cr_line        39717 non-null  object \n",
            " 20  inq_last_6mths          39717 non-null  int64  \n",
            " 21  mths_since_last_delinq  14035 non-null  float64\n",
            " 22  mths_since_last_record  2786 non-null   float64\n",
            " 23  open_acc                39717 non-null  int64  \n",
            " 24  pub_rec                 39717 non-null  int64  \n",
            " 25  revol_bal               39717 non-null  int64  \n",
            " 26  revol_util              39667 non-null  object \n",
            " 27  total_acc               39717 non-null  int64  \n",
            " 28  initial_list_status     39717 non-null  object \n",
            " 29  total_pymnt             39717 non-null  float64\n",
            " 30  total_pymnt_inv         39717 non-null  float64\n",
            " 31  total_rec_prncp         39717 non-null  float64\n",
            " 32  total_rec_int           39717 non-null  float64\n",
            " 33  total_rec_late_fee      39717 non-null  float64\n",
            " 34  last_pymnt_d            39646 non-null  object \n",
            " 35  last_pymnt_amnt         39717 non-null  float64\n",
            " 36  next_pymnt_d            1140 non-null   object \n",
            " 37  pub_rec_bankruptcies    39020 non-null  float64\n",
            "dtypes: float64(13), int64(8), object(17)\n",
            "memory usage: 11.5+ MB\n"
          ]
        }
      ],
      "source": [
        "df1.info()"
      ]
    },
    {
      "cell_type": "code",
      "execution_count": null,
      "id": "a45bc5b3",
      "metadata": {
        "colab": {
          "base_uri": "https://localhost:8080/"
        },
        "id": "a45bc5b3",
        "outputId": "f29ea977-1641-4244-f827-3dc4affb46c7"
      },
      "outputs": [
        {
          "output_type": "execute_result",
          "data": {
            "text/plain": [
              "0.0      670\n",
              "104.0     61\n",
              "89.0      60\n",
              "113.0     59\n",
              "111.0     57\n",
              "        ... \n",
              "19.0       1\n",
              "20.0       1\n",
              "120.0      1\n",
              "129.0      1\n",
              "5.0        1\n",
              "Name: mths_since_last_record, Length: 111, dtype: int64"
            ]
          },
          "metadata": {},
          "execution_count": 19
        }
      ],
      "source": [
        "df1[\"mths_since_last_record\"].value_counts()"
      ]
    },
    {
      "cell_type": "markdown",
      "id": "76318a6e",
      "metadata": {
        "id": "76318a6e"
      },
      "source": [
        "## People who have already deafulted on loans - are not likely to pay loans in future\n"
      ]
    },
    {
      "cell_type": "code",
      "execution_count": null,
      "id": "0a34747d",
      "metadata": {
        "id": "0a34747d"
      },
      "outputs": [],
      "source": [
        "NPA=df1[(df1[\"loan_status\"]==\"Charged Off\")]"
      ]
    },
    {
      "cell_type": "markdown",
      "id": "228aeceb",
      "metadata": {
        "id": "228aeceb"
      },
      "source": [
        "##### since public recorded bankruptcies have 697 null values we tried to gauge , why they are null - its mostly because they might not have been public recorded bankruptcies so null values may be imputed to 0"
      ]
    },
    {
      "cell_type": "code",
      "execution_count": null,
      "id": "42f20c02",
      "metadata": {
        "id": "42f20c02"
      },
      "outputs": [],
      "source": [
        "df2=df1\n",
        "df2[\"pub_rec_bankruptcies\"]= df2[\"pub_rec_bankruptcies\"].fillna(df2[\"pub_rec_bankruptcies\"].mode()[0])"
      ]
    },
    {
      "cell_type": "code",
      "execution_count": null,
      "id": "6b7b96ed",
      "metadata": {
        "scrolled": true,
        "colab": {
          "base_uri": "https://localhost:8080/"
        },
        "id": "6b7b96ed",
        "outputId": "83d334c3-c0d3-4e9b-9901-8d070b391983"
      },
      "outputs": [
        {
          "output_type": "execute_result",
          "data": {
            "text/plain": [
              "Index(['loan_amnt', 'funded_amnt', 'funded_amnt_inv', 'term', 'int_rate',\n",
              "       'installment', 'grade', 'sub_grade', 'emp_length', 'home_ownership',\n",
              "       'annual_inc', 'verification_status', 'issue_d', 'loan_status',\n",
              "       'pymnt_plan', 'purpose', 'addr_state', 'dti', 'delinq_2yrs',\n",
              "       'earliest_cr_line', 'inq_last_6mths', 'mths_since_last_delinq',\n",
              "       'mths_since_last_record', 'open_acc', 'pub_rec', 'revol_bal',\n",
              "       'revol_util', 'total_acc', 'initial_list_status', 'total_pymnt',\n",
              "       'total_pymnt_inv', 'total_rec_prncp', 'total_rec_int',\n",
              "       'total_rec_late_fee', 'last_pymnt_d', 'last_pymnt_amnt', 'next_pymnt_d',\n",
              "       'pub_rec_bankruptcies'],\n",
              "      dtype='object')"
            ]
          },
          "metadata": {},
          "execution_count": 22
        }
      ],
      "source": [
        "df2.columns"
      ]
    },
    {
      "cell_type": "markdown",
      "id": "b91b6407",
      "metadata": {
        "id": "b91b6407"
      },
      "source": [
        "- 'loan_amnt', 'funded_amnt', 'funded_amnt_inv',\n",
        "- 'term', 'int_rate',\n",
        "- 'grade', 'sub_grade'\n",
        "- 'emp_length','home_ownership', 'annual_inc'\n",
        "- 'installment', , , ,\n",
        "- 'verification_status', , 'loan_status',\n",
        "- 'issue_d\n",
        "- 'mths_since_last_delinq , 'addr_state', \n",
        "- 'dti', 'delinq_2yrs',\n",
        "- 'earliest_cr_line', 'inq_last_6mths', 'mths_since_last_delinq',\n",
        "- 'mths_since_last_record', 'open_acc', 'pub_rec', 'revol_bal',\n",
        "- 'revol_util', 'total_acc', , 'total_pymnt',\n",
        "- 'total_pymnt_inv', 'total_rec_prncp', 'total_rec_int',\n",
        "- 'total_rec_late_fee', 'last_pymnt_d', 'last_pymnt_amnt', 'next_pymnt_d',\n",
        "- 'pub_rec_bankruptcies'"
      ]
    },
    {
      "cell_type": "code",
      "execution_count": null,
      "id": "23410ade",
      "metadata": {
        "colab": {
          "base_uri": "https://localhost:8080/"
        },
        "id": "23410ade",
        "outputId": "285fd749-e011-4c56-b597-492bbfa9a6dc"
      },
      "outputs": [
        {
          "output_type": "execute_result",
          "data": {
            "text/plain": [
              "debt_consolidation    18641\n",
              "credit_card            5130\n",
              "other                  3993\n",
              "home_improvement       2976\n",
              "major_purchase         2187\n",
              "small_business         1828\n",
              "car                    1549\n",
              "wedding                 947\n",
              "medical                 693\n",
              "moving                  583\n",
              "vacation                381\n",
              "house                   381\n",
              "educational             325\n",
              "renewable_energy        103\n",
              "Name: purpose, dtype: int64"
            ]
          },
          "metadata": {},
          "execution_count": 23
        }
      ],
      "source": [
        "df2[\"purpose\"].value_counts()"
      ]
    },
    {
      "cell_type": "code",
      "execution_count": null,
      "id": "7c45e4a0",
      "metadata": {
        "colab": {
          "base_uri": "https://localhost:8080/"
        },
        "id": "7c45e4a0",
        "outputId": "e63608b2-b7db-489b-fc3e-28c16db0516c"
      },
      "outputs": [
        {
          "output_type": "execute_result",
          "data": {
            "text/plain": [
              "f    39717\n",
              "Name: initial_list_status, dtype: int64"
            ]
          },
          "metadata": {},
          "execution_count": 24
        }
      ],
      "source": [
        "df2[\"initial_list_status\"].value_counts()"
      ]
    },
    {
      "cell_type": "markdown",
      "id": "21a5d670",
      "metadata": {
        "id": "21a5d670"
      },
      "source": [
        "#### Dropping the  columns since they have same value for all records hence wont make any differnce if they are used or not \n",
        "- pymnt_plan\n",
        "- initial_list_status"
      ]
    },
    {
      "cell_type": "code",
      "execution_count": null,
      "id": "8b48e243",
      "metadata": {
        "id": "8b48e243"
      },
      "outputs": [],
      "source": [
        "df2.drop([\"initial_list_status\",\"pymnt_plan\"],axis=1,inplace= True)"
      ]
    },
    {
      "cell_type": "code",
      "execution_count": null,
      "id": "75b8219c",
      "metadata": {
        "colab": {
          "base_uri": "https://localhost:8080/"
        },
        "id": "75b8219c",
        "outputId": "0c579a10-8f93-4220-9cf5-4608a819840a"
      },
      "outputs": [
        {
          "output_type": "stream",
          "name": "stdout",
          "text": [
            "<class 'pandas.core.frame.DataFrame'>\n",
            "RangeIndex: 39717 entries, 0 to 39716\n",
            "Data columns (total 36 columns):\n",
            " #   Column                  Non-Null Count  Dtype  \n",
            "---  ------                  --------------  -----  \n",
            " 0   loan_amnt               39717 non-null  int64  \n",
            " 1   funded_amnt             39717 non-null  int64  \n",
            " 2   funded_amnt_inv         39717 non-null  float64\n",
            " 3   term                    39717 non-null  object \n",
            " 4   int_rate                39717 non-null  object \n",
            " 5   installment             39717 non-null  float64\n",
            " 6   grade                   39717 non-null  object \n",
            " 7   sub_grade               39717 non-null  object \n",
            " 8   emp_length              38642 non-null  object \n",
            " 9   home_ownership          39717 non-null  object \n",
            " 10  annual_inc              39717 non-null  float64\n",
            " 11  verification_status     39717 non-null  object \n",
            " 12  issue_d                 39717 non-null  object \n",
            " 13  loan_status             39717 non-null  object \n",
            " 14  purpose                 39717 non-null  object \n",
            " 15  addr_state              39717 non-null  object \n",
            " 16  dti                     39717 non-null  float64\n",
            " 17  delinq_2yrs             39717 non-null  int64  \n",
            " 18  earliest_cr_line        39717 non-null  object \n",
            " 19  inq_last_6mths          39717 non-null  int64  \n",
            " 20  mths_since_last_delinq  14035 non-null  float64\n",
            " 21  mths_since_last_record  2786 non-null   float64\n",
            " 22  open_acc                39717 non-null  int64  \n",
            " 23  pub_rec                 39717 non-null  int64  \n",
            " 24  revol_bal               39717 non-null  int64  \n",
            " 25  revol_util              39667 non-null  object \n",
            " 26  total_acc               39717 non-null  int64  \n",
            " 27  total_pymnt             39717 non-null  float64\n",
            " 28  total_pymnt_inv         39717 non-null  float64\n",
            " 29  total_rec_prncp         39717 non-null  float64\n",
            " 30  total_rec_int           39717 non-null  float64\n",
            " 31  total_rec_late_fee      39717 non-null  float64\n",
            " 32  last_pymnt_d            39646 non-null  object \n",
            " 33  last_pymnt_amnt         39717 non-null  float64\n",
            " 34  next_pymnt_d            1140 non-null   object \n",
            " 35  pub_rec_bankruptcies    39717 non-null  float64\n",
            "dtypes: float64(13), int64(8), object(15)\n",
            "memory usage: 10.9+ MB\n"
          ]
        }
      ],
      "source": [
        "df2.info()"
      ]
    },
    {
      "cell_type": "code",
      "execution_count": null,
      "id": "1118c194",
      "metadata": {
        "colab": {
          "base_uri": "https://localhost:8080/"
        },
        "id": "1118c194",
        "outputId": "1e1dc562-0456-4619-af05-3ff97a4c06ef"
      },
      "outputs": [
        {
          "output_type": "execute_result",
          "data": {
            "text/plain": [
              "array(['Fully Paid', 'Charged Off'], dtype=object)"
            ]
          },
          "metadata": {},
          "execution_count": 27
        }
      ],
      "source": [
        "df2 = df2[df2.loan_status != \"Current\"]\n",
        "df2.loan_status.unique()"
      ]
    },
    {
      "cell_type": "code",
      "execution_count": null,
      "id": "3830a4f7",
      "metadata": {
        "id": "3830a4f7"
      },
      "outputs": [],
      "source": [
        "df2[\"int_rate\"]=df2[\"int_rate\"].map(lambda x : x.strip('%'))"
      ]
    },
    {
      "cell_type": "code",
      "execution_count": null,
      "id": "173420b2",
      "metadata": {
        "colab": {
          "base_uri": "https://localhost:8080/"
        },
        "id": "173420b2",
        "outputId": "3f700603-65b0-4eed-e649-3ee09fba5d8a"
      },
      "outputs": [
        {
          "output_type": "execute_result",
          "data": {
            "text/plain": [
              "0        10.65\n",
              "1        15.27\n",
              "2        15.96\n",
              "3        13.49\n",
              "5         7.90\n",
              "         ...  \n",
              "39712     8.07\n",
              "39713    10.28\n",
              "39714     8.07\n",
              "39715     7.43\n",
              "39716    13.75\n",
              "Name: int_rate, Length: 38577, dtype: object"
            ]
          },
          "metadata": {},
          "execution_count": 29
        }
      ],
      "source": [
        "df2[\"int_rate\"]"
      ]
    },
    {
      "cell_type": "code",
      "execution_count": null,
      "id": "7f8eea26",
      "metadata": {
        "colab": {
          "base_uri": "https://localhost:8080/"
        },
        "id": "7f8eea26",
        "outputId": "30c06360-651f-4afc-f919-364bd0c6c43c"
      },
      "outputs": [
        {
          "output_type": "execute_result",
          "data": {
            "text/plain": [
              "10.99    913\n",
              "11.49    790\n",
              "7.51     787\n",
              "13.49    749\n",
              "7.88     725\n",
              "        ... \n",
              "16.96      1\n",
              "18.36      1\n",
              "16.15      1\n",
              "16.01      1\n",
              "16.20      1\n",
              "Name: int_rate, Length: 370, dtype: int64"
            ]
          },
          "metadata": {},
          "execution_count": 30
        }
      ],
      "source": [
        "df2[\"int_rate\"].value_counts()"
      ]
    },
    {
      "cell_type": "code",
      "execution_count": null,
      "id": "0ec0dd5e",
      "metadata": {
        "colab": {
          "base_uri": "https://localhost:8080/"
        },
        "id": "0ec0dd5e",
        "outputId": "32c25460-fdcb-48c1-ccb7-bbf689a02100"
      },
      "outputs": [
        {
          "output_type": "execute_result",
          "data": {
            "text/plain": [
              "0         36 months\n",
              "1         60 months\n",
              "2         36 months\n",
              "3         36 months\n",
              "5         36 months\n",
              "            ...    \n",
              "39712     36 months\n",
              "39713     36 months\n",
              "39714     36 months\n",
              "39715     36 months\n",
              "39716     36 months\n",
              "Name: term, Length: 38577, dtype: object"
            ]
          },
          "metadata": {},
          "execution_count": 31
        }
      ],
      "source": [
        "df2[\"term\"]"
      ]
    },
    {
      "cell_type": "code",
      "execution_count": null,
      "id": "f0a43ff5",
      "metadata": {
        "id": "f0a43ff5"
      },
      "outputs": [],
      "source": [
        "df2[\"term\"]=df2[\"term\"].map(lambda x : x.strip(' months'))"
      ]
    },
    {
      "cell_type": "code",
      "execution_count": null,
      "id": "b14546c1",
      "metadata": {
        "colab": {
          "base_uri": "https://localhost:8080/"
        },
        "id": "b14546c1",
        "outputId": "68908ebd-3a16-476b-977c-3d627a570221"
      },
      "outputs": [
        {
          "output_type": "execute_result",
          "data": {
            "text/plain": [
              "0        36\n",
              "1        60\n",
              "2        36\n",
              "3        36\n",
              "5        36\n",
              "         ..\n",
              "39712    36\n",
              "39713    36\n",
              "39714    36\n",
              "39715    36\n",
              "39716    36\n",
              "Name: term, Length: 38577, dtype: object"
            ]
          },
          "metadata": {},
          "execution_count": 33
        }
      ],
      "source": [
        "df2['term']"
      ]
    },
    {
      "cell_type": "code",
      "execution_count": null,
      "id": "dfc265d3",
      "metadata": {
        "colab": {
          "base_uri": "https://localhost:8080/"
        },
        "id": "dfc265d3",
        "outputId": "e3d3356d-b6a2-465a-bd0a-725ceceaf2a3"
      },
      "outputs": [
        {
          "output_type": "execute_result",
          "data": {
            "text/plain": [
              "0        162.87\n",
              "1         59.83\n",
              "2         84.33\n",
              "3        339.31\n",
              "5        156.46\n",
              "          ...  \n",
              "39712     78.42\n",
              "39713    275.38\n",
              "39714    156.84\n",
              "39715    155.38\n",
              "39716    255.43\n",
              "Name: installment, Length: 38577, dtype: float64"
            ]
          },
          "metadata": {},
          "execution_count": 34
        }
      ],
      "source": [
        "df2[\"installment\"]"
      ]
    },
    {
      "cell_type": "code",
      "execution_count": null,
      "id": "06142a40",
      "metadata": {
        "scrolled": true,
        "colab": {
          "base_uri": "https://localhost:8080/"
        },
        "id": "06142a40",
        "outputId": "72a38242-cfaa-49e5-f35d-d1e6ae4a2d79"
      },
      "outputs": [
        {
          "output_type": "execute_result",
          "data": {
            "text/plain": [
              "RENT        18480\n",
              "MORTGAGE    17021\n",
              "OWN          2975\n",
              "OTHER          98\n",
              "NONE            3\n",
              "Name: home_ownership, dtype: int64"
            ]
          },
          "metadata": {},
          "execution_count": 35
        }
      ],
      "source": [
        "df2[\"home_ownership\"].value_counts()"
      ]
    },
    {
      "cell_type": "code",
      "execution_count": null,
      "id": "95cbaaa4",
      "metadata": {
        "colab": {
          "base_uri": "https://localhost:8080/"
        },
        "id": "95cbaaa4",
        "outputId": "36098726-0f93-4898-c106-244fc2a8eef8"
      },
      "outputs": [
        {
          "output_type": "execute_result",
          "data": {
            "text/plain": [
              "debt_consolidation    18055\n",
              "credit_card            5027\n",
              "other                  3865\n",
              "home_improvement       2875\n",
              "major_purchase         2150\n",
              "small_business         1754\n",
              "car                    1499\n",
              "wedding                 926\n",
              "medical                 681\n",
              "moving                  576\n",
              "vacation                375\n",
              "house                   367\n",
              "educational             325\n",
              "renewable_energy        102\n",
              "Name: purpose, dtype: int64"
            ]
          },
          "metadata": {},
          "execution_count": 36
        }
      ],
      "source": [
        "df2[\"purpose\"].value_counts()"
      ]
    },
    {
      "cell_type": "code",
      "execution_count": null,
      "id": "64e69afe",
      "metadata": {
        "colab": {
          "base_uri": "https://localhost:8080/"
        },
        "id": "64e69afe",
        "outputId": "cd81579a-2ac8-4ef9-ca68-5a49d0400cb6"
      },
      "outputs": [
        {
          "output_type": "execute_result",
          "data": {
            "text/plain": [
              "0.0      443\n",
              "15.0     244\n",
              "23.0     243\n",
              "30.0     243\n",
              "24.0     236\n",
              "        ... \n",
              "107.0      1\n",
              "85.0       1\n",
              "97.0       1\n",
              "95.0       1\n",
              "115.0      1\n",
              "Name: mths_since_last_delinq, Length: 95, dtype: int64"
            ]
          },
          "metadata": {},
          "execution_count": 37
        }
      ],
      "source": [
        "df2[\"mths_since_last_delinq\"].value_counts()"
      ]
    },
    {
      "cell_type": "code",
      "execution_count": null,
      "id": "70b6708d",
      "metadata": {
        "colab": {
          "base_uri": "https://localhost:8080/"
        },
        "id": "70b6708d",
        "outputId": "d270e9f0-fd49-4ed6-e3c8-8be96637d350"
      },
      "outputs": [
        {
          "output_type": "execute_result",
          "data": {
            "text/plain": [
              "0.0      670\n",
              "104.0     60\n",
              "113.0     58\n",
              "89.0      57\n",
              "111.0     56\n",
              "        ... \n",
              "14.0       1\n",
              "46.0       1\n",
              "7.0        1\n",
              "83.0       1\n",
              "5.0        1\n",
              "Name: mths_since_last_record, Length: 111, dtype: int64"
            ]
          },
          "metadata": {},
          "execution_count": 38
        }
      ],
      "source": [
        "df2[\"mths_since_last_record\"].value_counts()"
      ]
    },
    {
      "cell_type": "code",
      "execution_count": null,
      "id": "04b51a5c",
      "metadata": {
        "colab": {
          "base_uri": "https://localhost:8080/"
        },
        "id": "04b51a5c",
        "outputId": "c1f18698-6ba5-4bc0-a0cf-aef2793261d0"
      },
      "outputs": [
        {
          "output_type": "execute_result",
          "data": {
            "text/plain": [
              "7     3909\n",
              "6     3846\n",
              "8     3814\n",
              "9     3607\n",
              "5     3111\n",
              "10    3097\n",
              "11    2666\n",
              "4     2300\n",
              "12    2198\n",
              "13    1855\n",
              "3     1470\n",
              "14    1427\n",
              "15    1146\n",
              "16     908\n",
              "17     716\n",
              "2      596\n",
              "18     516\n",
              "19     384\n",
              "20     281\n",
              "21     235\n",
              "22     137\n",
              "23      93\n",
              "24      75\n",
              "25      53\n",
              "26      34\n",
              "28      24\n",
              "27      22\n",
              "30      15\n",
              "29      13\n",
              "31       7\n",
              "34       5\n",
              "35       4\n",
              "32       3\n",
              "33       3\n",
              "36       2\n",
              "39       1\n",
              "38       1\n",
              "44       1\n",
              "41       1\n",
              "42       1\n",
              "Name: open_acc, dtype: int64"
            ]
          },
          "metadata": {},
          "execution_count": 39
        }
      ],
      "source": [
        "df2[\"open_acc\"].value_counts()"
      ]
    },
    {
      "cell_type": "code",
      "execution_count": null,
      "id": "58227de8",
      "metadata": {
        "colab": {
          "base_uri": "https://localhost:8080/"
        },
        "id": "58227de8",
        "outputId": "65cdf592-68c3-4ae9-bbb4-c9d9efc70a54"
      },
      "outputs": [
        {
          "output_type": "execute_result",
          "data": {
            "text/plain": [
              "0%        954\n",
              "0.20%      62\n",
              "63%        62\n",
              "40.70%     57\n",
              "31.20%     57\n",
              "         ... \n",
              "77.63%      1\n",
              "25.74%      1\n",
              "0.83%       1\n",
              "47.36%      1\n",
              "7.28%       1\n",
              "Name: revol_util, Length: 1088, dtype: int64"
            ]
          },
          "metadata": {},
          "execution_count": 40
        }
      ],
      "source": [
        "df2[\"revol_util\"].value_counts()"
      ]
    },
    {
      "cell_type": "code",
      "execution_count": null,
      "id": "e3234c80",
      "metadata": {
        "id": "e3234c80"
      },
      "outputs": [],
      "source": [
        "#922 records where the peope have not utilized their credit \n",
        "#we have to strip the % sign to make the data meaningful"
      ]
    },
    {
      "cell_type": "markdown",
      "id": "fbef8755",
      "metadata": {
        "id": "fbef8755"
      },
      "source": [
        "## "
      ]
    },
    {
      "cell_type": "code",
      "execution_count": null,
      "id": "45978037",
      "metadata": {
        "id": "45978037"
      },
      "outputs": [],
      "source": [
        "df2['revol_util'] = df2['revol_util'].str.replace('%','').astype(float)"
      ]
    },
    {
      "cell_type": "code",
      "execution_count": null,
      "id": "5f828dd0",
      "metadata": {
        "colab": {
          "base_uri": "https://localhost:8080/"
        },
        "id": "5f828dd0",
        "outputId": "11adf5b2-75bd-4a1d-e3dd-49d2054649c2"
      },
      "outputs": [
        {
          "output_type": "execute_result",
          "data": {
            "text/plain": [
              "0        83.7\n",
              "1         9.4\n",
              "2        98.5\n",
              "3        21.0\n",
              "5        28.3\n",
              "         ... \n",
              "39712    13.1\n",
              "39713    26.9\n",
              "39714    19.4\n",
              "39715     0.7\n",
              "39716    51.5\n",
              "Name: revol_util, Length: 38577, dtype: float64"
            ]
          },
          "metadata": {},
          "execution_count": 43
        }
      ],
      "source": [
        "df2['revol_util']"
      ]
    },
    {
      "cell_type": "code",
      "execution_count": null,
      "id": "77fc8d77",
      "metadata": {
        "colab": {
          "base_uri": "https://localhost:8080/"
        },
        "id": "77fc8d77",
        "outputId": "cadd59e5-977e-4ed9-eb52-c73eba243716"
      },
      "outputs": [
        {
          "output_type": "execute_result",
          "data": {
            "text/plain": [
              "10+ years    8488\n",
              "< 1 year     4508\n",
              "2 years      4291\n",
              "3 years      4012\n",
              "4 years      3342\n",
              "5 years      3194\n",
              "1 year       3169\n",
              "6 years      2168\n",
              "7 years      1711\n",
              "8 years      1435\n",
              "9 years      1226\n",
              "Name: emp_length, dtype: int64"
            ]
          },
          "metadata": {},
          "execution_count": 44
        }
      ],
      "source": [
        "df2['emp_length'].value_counts()"
      ]
    },
    {
      "cell_type": "code",
      "execution_count": null,
      "id": "35b2deec",
      "metadata": {
        "id": "35b2deec"
      },
      "outputs": [],
      "source": [
        "#df2[\"emp_length\"]=df2[\"emp_length\"].map(lambda x: 0 if x=='10+ years' else 0 (if x=='< 1 year'))"
      ]
    },
    {
      "cell_type": "code",
      "execution_count": null,
      "id": "810e49be",
      "metadata": {
        "id": "810e49be"
      },
      "outputs": [],
      "source": [
        "df2[\"emp_length\"]=df2[\"emp_length\"].astype(str)"
      ]
    },
    {
      "cell_type": "code",
      "execution_count": null,
      "id": "5aa6111d",
      "metadata": {
        "id": "5aa6111d"
      },
      "outputs": [],
      "source": [
        "df2[\"emp_length\"]=df2[\"emp_length\"].map(lambda x: x.strip('years'))"
      ]
    },
    {
      "cell_type": "code",
      "execution_count": null,
      "id": "c1efa2ca",
      "metadata": {
        "id": "c1efa2ca"
      },
      "outputs": [],
      "source": [
        "df3=df0"
      ]
    },
    {
      "cell_type": "code",
      "execution_count": null,
      "id": "dc92e62e",
      "metadata": {
        "colab": {
          "base_uri": "https://localhost:8080/"
        },
        "id": "dc92e62e",
        "outputId": "c493a7c2-3ea0-4a88-a53a-f48cc64ef144"
      },
      "outputs": [
        {
          "output_type": "execute_result",
          "data": {
            "text/plain": [
              "10+ years    8879\n",
              "< 1 year     4583\n",
              "2 years      4388\n",
              "3 years      4095\n",
              "4 years      3436\n",
              "5 years      3282\n",
              "1 year       3240\n",
              "6 years      2229\n",
              "7 years      1773\n",
              "8 years      1479\n",
              "9 years      1258\n",
              "Name: emp_length, dtype: int64"
            ]
          },
          "metadata": {},
          "execution_count": 49
        }
      ],
      "source": [
        "df3['emp_length'].value_counts()"
      ]
    },
    {
      "cell_type": "code",
      "execution_count": null,
      "id": "b5e25606",
      "metadata": {
        "id": "b5e25606"
      },
      "outputs": [],
      "source": [
        "df3['emp_length']=df3['emp_length'].astype(str)"
      ]
    },
    {
      "cell_type": "code",
      "execution_count": null,
      "id": "3ac6c115",
      "metadata": {
        "id": "3ac6c115"
      },
      "outputs": [],
      "source": [
        "df3[\"emp_length\"]=df3[\"emp_length\"].map(lambda x:  x.replace(\"+\",\"\").replace(\"< \",\"\").replace(\"years\",\"\").replace(\"year\",\"\"))"
      ]
    },
    {
      "cell_type": "code",
      "execution_count": null,
      "id": "9aabd001",
      "metadata": {
        "colab": {
          "base_uri": "https://localhost:8080/"
        },
        "id": "9aabd001",
        "outputId": "aac11406-dc78-4b13-b2c0-abe2091696d0"
      },
      "outputs": [
        {
          "output_type": "execute_result",
          "data": {
            "text/plain": [
              "10     8879\n",
              "1      7823\n",
              "2      4388\n",
              "3      4095\n",
              "4      3436\n",
              "5      3282\n",
              "6      2229\n",
              "7      1773\n",
              "8      1479\n",
              "9      1258\n",
              "nan    1075\n",
              "Name: emp_length, dtype: int64"
            ]
          },
          "metadata": {},
          "execution_count": 52
        }
      ],
      "source": [
        "df3['emp_length'].value_counts()"
      ]
    },
    {
      "cell_type": "code",
      "execution_count": null,
      "id": "d0028078",
      "metadata": {
        "id": "d0028078"
      },
      "outputs": [],
      "source": [
        "df3[\"emp_length\"]=df3[\"emp_length\"].map(lambda x:  x.replace(\"+\",\"\").replace(\"< \",\"\").replace(\"years\",\"\"))"
      ]
    },
    {
      "cell_type": "code",
      "execution_count": null,
      "id": "a05c5eaa",
      "metadata": {
        "id": "a05c5eaa"
      },
      "outputs": [],
      "source": []
    },
    {
      "cell_type": "code",
      "execution_count": null,
      "id": "f484d05b",
      "metadata": {
        "id": "f484d05b"
      },
      "outputs": [],
      "source": [
        "df2['emp_length']=df2['emp_length'].astype(str)"
      ]
    },
    {
      "cell_type": "code",
      "execution_count": null,
      "id": "b7209104",
      "metadata": {
        "colab": {
          "base_uri": "https://localhost:8080/"
        },
        "id": "b7209104",
        "outputId": "552165e5-58e9-44ae-e29e-bac711668f8b"
      },
      "outputs": [
        {
          "output_type": "execute_result",
          "data": {
            "text/plain": [
              "dtype('O')"
            ]
          },
          "metadata": {},
          "execution_count": 55
        }
      ],
      "source": [
        "df2['emp_length'].dtype"
      ]
    },
    {
      "cell_type": "code",
      "execution_count": null,
      "id": "9db434f4",
      "metadata": {
        "id": "9db434f4"
      },
      "outputs": [],
      "source": [
        "df2[\"emp_length\"]=df2[\"emp_length\"].map(lambda x:  x.replace(\"+\",\"\"))"
      ]
    },
    {
      "cell_type": "code",
      "execution_count": null,
      "id": "482cd2ed",
      "metadata": {
        "id": "482cd2ed"
      },
      "outputs": [],
      "source": [
        "df2[\"emp_length\"]=df2[\"emp_length\"].map(lambda x:  x.replace(\"< \",\"\").replace(\"+\",\"\").replace(\"years\",\"\").replace(\"year\",\"\"))"
      ]
    },
    {
      "cell_type": "code",
      "execution_count": null,
      "id": "3d9fd9de",
      "metadata": {
        "colab": {
          "base_uri": "https://localhost:8080/"
        },
        "id": "3d9fd9de",
        "outputId": "2633ca9f-7606-402c-a0fe-ceb9b903d6e7"
      },
      "outputs": [
        {
          "output_type": "execute_result",
          "data": {
            "text/plain": [
              "10     8488\n",
              "1      7677\n",
              "2      4291\n",
              "3      4012\n",
              "4      3342\n",
              "5      3194\n",
              "6      2168\n",
              "7      1711\n",
              "8      1435\n",
              "9      1226\n",
              "nan    1033\n",
              "Name: emp_length, dtype: int64"
            ]
          },
          "metadata": {},
          "execution_count": 58
        }
      ],
      "source": [
        "df2[\"emp_length\"].value_counts()"
      ]
    },
    {
      "cell_type": "code",
      "execution_count": null,
      "id": "808d0066",
      "metadata": {
        "id": "808d0066"
      },
      "outputs": [],
      "source": [
        "df2[\"emp_length\"]=df2[\"emp_length\"].replace(\"nan\",0)"
      ]
    },
    {
      "cell_type": "code",
      "execution_count": null,
      "id": "88252da0",
      "metadata": {
        "colab": {
          "base_uri": "https://localhost:8080/"
        },
        "id": "88252da0",
        "outputId": "317ec019-0a0a-45a0-eda7-977355547d9f"
      },
      "outputs": [
        {
          "output_type": "execute_result",
          "data": {
            "text/plain": [
              "10    8488\n",
              "1     7677\n",
              "2     4291\n",
              "3     4012\n",
              "4     3342\n",
              "5     3194\n",
              "6     2168\n",
              "7     1711\n",
              "8     1435\n",
              "9     1226\n",
              "0     1033\n",
              "Name: emp_length, dtype: int64"
            ]
          },
          "metadata": {},
          "execution_count": 60
        }
      ],
      "source": [
        "df2[\"emp_length\"]=pd.to_numeric(df2[\"emp_length\"])\n",
        "df2[\"emp_length\"].value_counts()"
      ]
    },
    {
      "cell_type": "markdown",
      "id": "d79dc487",
      "metadata": {
        "id": "d79dc487"
      },
      "source": [
        "## Outlier Treatment"
      ]
    },
    {
      "cell_type": "code",
      "execution_count": null,
      "id": "3494a3b1",
      "metadata": {
        "colab": {
          "base_uri": "https://localhost:8080/"
        },
        "id": "3494a3b1",
        "outputId": "7fbba767-e154-480c-e42a-f4a5c618c293"
      },
      "outputs": [
        {
          "output_type": "execute_result",
          "data": {
            "text/plain": [
              "count    3.857700e+04\n",
              "mean     6.877797e+04\n",
              "std      6.421868e+04\n",
              "min      4.000000e+03\n",
              "25%      4.000000e+04\n",
              "50%      5.886800e+04\n",
              "75%      8.200000e+04\n",
              "max      6.000000e+06\n",
              "Name: annual_inc, dtype: float64"
            ]
          },
          "metadata": {},
          "execution_count": 61
        }
      ],
      "source": [
        "df2[\"annual_inc\"].describe()"
      ]
    },
    {
      "cell_type": "code",
      "execution_count": null,
      "id": "dfbfa462",
      "metadata": {
        "id": "dfbfa462"
      },
      "outputs": [],
      "source": [
        "df2[\"annual_inc\"]=df2[\"annual_inc\"].astype(\"int64\")"
      ]
    },
    {
      "cell_type": "code",
      "execution_count": null,
      "id": "9708d6f0",
      "metadata": {
        "colab": {
          "base_uri": "https://localhost:8080/",
          "height": 290
        },
        "id": "9708d6f0",
        "outputId": "0b5dfe86-662d-46a5-c280-96bed0e2b81c"
      },
      "outputs": [
        {
          "output_type": "display_data",
          "data": {
            "text/plain": [
              "<Figure size 432x288 with 1 Axes>"
            ],
            "image/png": "[encoded data removed]"
          },
          "metadata": {
            "needs_background": "light"
          }
        }
      ],
      "source": [
        "\n",
        "plt.boxplot(df2[\"annual_inc\"])\n",
        "plt.xlabel(\"annual income\")\n",
        "plt.ylabel(\"income\")\n",
        "plt.show()"
      ]
    },
    {
      "cell_type": "code",
      "execution_count": null,
      "id": "8348616a",
      "metadata": {
        "colab": {
          "base_uri": "https://localhost:8080/"
        },
        "id": "8348616a",
        "outputId": "6e3e39e0-8fc9-4fb6-c842-b1c53ea9fc3c"
      },
      "outputs": [
        {
          "output_type": "execute_result",
          "data": {
            "text/plain": [
              "140004.0"
            ]
          },
          "metadata": {},
          "execution_count": 64
        }
      ],
      "source": [
        "df2[\"annual_inc\"].quantile(0.95)"
      ]
    },
    {
      "cell_type": "code",
      "execution_count": null,
      "id": "4bc67b4b",
      "metadata": {
        "id": "4bc67b4b"
      },
      "outputs": [],
      "source": [
        "df2=df2[(df2[\"annual_inc\"]<=140000)]"
      ]
    },
    {
      "cell_type": "code",
      "execution_count": null,
      "id": "79de5848",
      "metadata": {
        "colab": {
          "base_uri": "https://localhost:8080/"
        },
        "id": "79de5848",
        "outputId": "da206950-59a1-4b2c-b1ea-4e093f85c345"
      },
      "outputs": [
        {
          "output_type": "execute_result",
          "data": {
            "text/plain": [
              "(36642, 36)"
            ]
          },
          "metadata": {},
          "execution_count": 66
        }
      ],
      "source": [
        "df2.shape # so now we have reduced 549 records as they are kind of outliers"
      ]
    },
    {
      "cell_type": "code",
      "execution_count": null,
      "id": "f3947fd7",
      "metadata": {
        "colab": {
          "base_uri": "https://localhost:8080/",
          "height": 279
        },
        "id": "f3947fd7",
        "outputId": "5d330b19-d50a-4ad6-d729-a0cac696cc23"
      },
      "outputs": [
        {
          "output_type": "display_data",
          "data": {
            "text/plain": [
              "<Figure size 432x288 with 1 Axes>"
            ],
            "image/png": "[encoded data removed]"
          },
          "metadata": {
            "needs_background": "light"
          }
        }
      ],
      "source": [
        "plt.boxplot(df2[\"annual_inc\"])\n",
        "plt.xlabel(\"annual income\")\n",
        "plt.ylabel(\"income\")\n",
        "plt.show()"
      ]
    },
    {
      "cell_type": "markdown",
      "id": "7a59d3d1",
      "metadata": {
        "id": "7a59d3d1"
      },
      "source": [
        "### Now the \"annual_inc\" data looks good and proceeding next.\n",
        "- Let's analyze other numerical variables which could possibly have outliers.\n",
        "- loan_amnt \n",
        "- dti\n",
        "- funded_amnt_inv \n",
        "- funded_amnt"
      ]
    },
    {
      "cell_type": "code",
      "execution_count": null,
      "id": "767e7736",
      "metadata": {
        "colab": {
          "base_uri": "https://localhost:8080/"
        },
        "id": "767e7736",
        "outputId": "b396c53c-6e96-49af-f1c6-61c863eb5107"
      },
      "outputs": [
        {
          "output_type": "execute_result",
          "data": {
            "text/plain": [
              "count    36642.000000\n",
              "mean     10681.045658\n",
              "std       7047.619569\n",
              "min        500.000000\n",
              "25%       5000.000000\n",
              "50%       9250.000000\n",
              "75%      15000.000000\n",
              "max      35000.000000\n",
              "Name: loan_amnt, dtype: float64"
            ]
          },
          "metadata": {},
          "execution_count": 68
        }
      ],
      "source": [
        "df2[\"loan_amnt\"].describe()"
      ]
    },
    {
      "cell_type": "code",
      "execution_count": null,
      "id": "88a8c9e8",
      "metadata": {
        "colab": {
          "base_uri": "https://localhost:8080/"
        },
        "id": "88a8c9e8",
        "outputId": "80dbaece-ee85-4c26-dafe-b00b4cd9f7e5"
      },
      "outputs": [
        {
          "output_type": "execute_result",
          "data": {
            "text/plain": [
              "25000.0"
            ]
          },
          "metadata": {},
          "execution_count": 69
        }
      ],
      "source": [
        "df2[\"loan_amnt\"].quantile(0.95)"
      ]
    },
    {
      "cell_type": "code",
      "execution_count": null,
      "id": "77089f29",
      "metadata": {
        "colab": {
          "base_uri": "https://localhost:8080/",
          "height": 283
        },
        "id": "77089f29",
        "outputId": "7d0bb5c7-9a80-4073-c96a-a6ec50a1f275"
      },
      "outputs": [
        {
          "output_type": "execute_result",
          "data": {
            "text/plain": [
              "<matplotlib.axes._subplots.AxesSubplot at 0x7febcd50f890>"
            ]
          },
          "metadata": {},
          "execution_count": 70
        },
        {
          "output_type": "display_data",
          "data": {
            "text/plain": [
              "<Figure size 432x288 with 1 Axes>"
            ],
            "image/png": "[encoded data removed]"
          },
          "metadata": {
            "needs_background": "light"
          }
        }
      ],
      "source": [
        "df2[\"loan_amnt\"].plot.box()"
      ]
    },
    {
      "cell_type": "code",
      "execution_count": null,
      "id": "5bcdb6b8",
      "metadata": {
        "colab": {
          "base_uri": "https://localhost:8080/"
        },
        "id": "5bcdb6b8",
        "outputId": "949521d9-8a06-4509-a51e-5e364c406c2a"
      },
      "outputs": [
        {
          "output_type": "execute_result",
          "data": {
            "text/plain": [
              "25000.0"
            ]
          },
          "metadata": {},
          "execution_count": 71
        }
      ],
      "source": [
        "df2[\"loan_amnt\"].quantile(0.95)"
      ]
    },
    {
      "cell_type": "code",
      "execution_count": null,
      "id": "9e1e3e55",
      "metadata": {
        "id": "9e1e3e55"
      },
      "outputs": [],
      "source": [
        "df2=df2[(df2[\"loan_amnt\"]<=25000)]"
      ]
    },
    {
      "cell_type": "code",
      "execution_count": null,
      "id": "1964b283",
      "metadata": {
        "colab": {
          "base_uri": "https://localhost:8080/"
        },
        "id": "1964b283",
        "outputId": "dee16eea-f4df-40d5-fd5b-8f51875b6be0"
      },
      "outputs": [
        {
          "output_type": "execute_result",
          "data": {
            "text/plain": [
              "(35526, 36)"
            ]
          },
          "metadata": {},
          "execution_count": 73
        }
      ],
      "source": [
        "df2.shape"
      ]
    },
    {
      "cell_type": "code",
      "execution_count": null,
      "id": "c7919e78",
      "metadata": {
        "colab": {
          "base_uri": "https://localhost:8080/"
        },
        "id": "c7919e78",
        "outputId": "5d0c55ac-ecc9-454a-bc47-18f398ac770f"
      },
      "outputs": [
        {
          "output_type": "execute_result",
          "data": {
            "text/plain": [
              "count    35526.000000\n",
              "mean        13.406332\n",
              "std          6.660756\n",
              "min          0.000000\n",
              "25%          8.300000\n",
              "50%         13.520000\n",
              "75%         18.680000\n",
              "max         29.990000\n",
              "Name: dti, dtype: float64"
            ]
          },
          "metadata": {},
          "execution_count": 74
        }
      ],
      "source": [
        "df2[\"dti\"].describe()"
      ]
    },
    {
      "cell_type": "code",
      "execution_count": null,
      "id": "43dccec7",
      "metadata": {
        "colab": {
          "base_uri": "https://localhost:8080/",
          "height": 282
        },
        "id": "43dccec7",
        "outputId": "3b8e5954-2768-4ed3-c212-ef9f5251bdb1"
      },
      "outputs": [
        {
          "output_type": "execute_result",
          "data": {
            "text/plain": [
              "<matplotlib.axes._subplots.AxesSubplot at 0x7febcd4a66d0>"
            ]
          },
          "metadata": {},
          "execution_count": 75
        },
        {
          "output_type": "display_data",
          "data": {
            "text/plain": [
              "<Figure size 432x288 with 1 Axes>"
            ],
            "image/png": "[encoded data removed]"
          },
          "metadata": {
            "needs_background": "light"
          }
        }
      ],
      "source": [
        "df2[\"dti\"].plot.box()"
      ]
    },
    {
      "cell_type": "code",
      "execution_count": null,
      "id": "75934164",
      "metadata": {
        "colab": {
          "base_uri": "https://localhost:8080/",
          "height": 283
        },
        "id": "75934164",
        "outputId": "6627474b-b571-47f5-ff15-e429e32cb18b"
      },
      "outputs": [
        {
          "output_type": "execute_result",
          "data": {
            "text/plain": [
              "<matplotlib.axes._subplots.AxesSubplot at 0x7febcd499cd0>"
            ]
          },
          "metadata": {},
          "execution_count": 76
        },
        {
          "output_type": "display_data",
          "data": {
            "text/plain": [
              "<Figure size 432x288 with 1 Axes>"
            ],
            "image/png": "[encoded data removed]"
          },
          "metadata": {
            "needs_background": "light"
          }
        }
      ],
      "source": [
        "df2[\"funded_amnt\"].plot.box()"
      ]
    },
    {
      "cell_type": "code",
      "execution_count": null,
      "id": "cbf9ebff",
      "metadata": {
        "colab": {
          "base_uri": "https://localhost:8080/",
          "height": 283
        },
        "id": "cbf9ebff",
        "outputId": "4ea11463-936a-45b4-ba3e-3681f70311ec"
      },
      "outputs": [
        {
          "output_type": "execute_result",
          "data": {
            "text/plain": [
              "<matplotlib.axes._subplots.AxesSubplot at 0x7febcfad3110>"
            ]
          },
          "metadata": {},
          "execution_count": 77
        },
        {
          "output_type": "display_data",
          "data": {
            "text/plain": [
              "<Figure size 432x288 with 1 Axes>"
            ],
            "image/png": "[encoded data removed]"
          },
          "metadata": {
            "needs_background": "light"
          }
        }
      ],
      "source": [
        "df2[\"funded_amnt_inv\"].plot.box()"
      ]
    },
    {
      "cell_type": "code",
      "execution_count": null,
      "id": "2ef45a79",
      "metadata": {
        "colab": {
          "base_uri": "https://localhost:8080/"
        },
        "id": "2ef45a79",
        "outputId": "a62bb3b0-6890-4086-d481-50c31acb0b2b"
      },
      "outputs": [
        {
          "output_type": "execute_result",
          "data": {
            "text/plain": [
              "Index(['loan_amnt', 'funded_amnt', 'funded_amnt_inv', 'term', 'int_rate',\n",
              "       'installment', 'grade', 'sub_grade', 'emp_length', 'home_ownership',\n",
              "       'annual_inc', 'verification_status', 'issue_d', 'loan_status',\n",
              "       'purpose', 'addr_state', 'dti', 'delinq_2yrs', 'earliest_cr_line',\n",
              "       'inq_last_6mths', 'mths_since_last_delinq', 'mths_since_last_record',\n",
              "       'open_acc', 'pub_rec', 'revol_bal', 'revol_util', 'total_acc',\n",
              "       'total_pymnt', 'total_pymnt_inv', 'total_rec_prncp', 'total_rec_int',\n",
              "       'total_rec_late_fee', 'last_pymnt_d', 'last_pymnt_amnt', 'next_pymnt_d',\n",
              "       'pub_rec_bankruptcies'],\n",
              "      dtype='object')"
            ]
          },
          "metadata": {},
          "execution_count": 78
        }
      ],
      "source": [
        "df2.columns"
      ]
    },
    {
      "cell_type": "code",
      "execution_count": null,
      "id": "b1d5200a",
      "metadata": {
        "colab": {
          "base_uri": "https://localhost:8080/"
        },
        "id": "b1d5200a",
        "outputId": "59f70231-1430-481a-81a6-6cb091fd1537"
      },
      "outputs": [
        {
          "output_type": "execute_result",
          "data": {
            "text/plain": [
              "0     31690\n",
              "1      2947\n",
              "2       597\n",
              "3       199\n",
              "4        57\n",
              "5        18\n",
              "6        10\n",
              "7         4\n",
              "8         2\n",
              "9         1\n",
              "11        1\n",
              "Name: delinq_2yrs, dtype: int64"
            ]
          },
          "metadata": {},
          "execution_count": 79
        }
      ],
      "source": [
        "df2[\"delinq_2yrs\"].value_counts()"
      ]
    },
    {
      "cell_type": "code",
      "execution_count": null,
      "id": "98044e5d",
      "metadata": {
        "id": "98044e5d"
      },
      "outputs": [],
      "source": []
    },
    {
      "cell_type": "code",
      "execution_count": null,
      "id": "9819a962",
      "metadata": {
        "id": "9819a962"
      },
      "outputs": [],
      "source": []
    },
    {
      "cell_type": "markdown",
      "id": "e2ead132",
      "metadata": {
        "id": "e2ead132"
      },
      "source": [
        "## Analysing data "
      ]
    },
    {
      "cell_type": "code",
      "execution_count": null,
      "id": "92e59841",
      "metadata": {
        "colab": {
          "base_uri": "https://localhost:8080/",
          "height": 297
        },
        "id": "92e59841",
        "outputId": "a7a4b039-31fd-42aa-9f7d-8860cba68688"
      },
      "outputs": [
        {
          "output_type": "execute_result",
          "data": {
            "text/plain": [
              "<matplotlib.axes._subplots.AxesSubplot at 0x7febcd419490>"
            ]
          },
          "metadata": {},
          "execution_count": 80
        },
        {
          "output_type": "display_data",
          "data": {
            "text/plain": [
              "<Figure size 432x288 with 1 Axes>"
            ],
            "image/png": "[encoded data removed]"
          },
          "metadata": {
            "needs_background": "light"
          }
        }
      ],
      "source": [
        "sns.countplot(x = 'loan_status', data = df2)"
      ]
    },
    {
      "cell_type": "code",
      "execution_count": null,
      "id": "9e9e9e22",
      "metadata": {
        "colab": {
          "base_uri": "https://localhost:8080/",
          "height": 515
        },
        "id": "9e9e9e22",
        "outputId": "08a8b6d5-b6a5-4a3e-f0fc-8a2c19cf3f61"
      },
      "outputs": [
        {
          "output_type": "execute_result",
          "data": {
            "text/plain": [
              "<matplotlib.axes._subplots.AxesSubplot at 0x7febccbb3650>"
            ]
          },
          "metadata": {},
          "execution_count": 81
        },
        {
          "output_type": "display_data",
          "data": {
            "text/plain": [
              "<Figure size 1080x576 with 1 Axes>"
            ],
            "image/png": "[encoded data removed]"
          },
          "metadata": {
            "needs_background": "light"
          }
        }
      ],
      "source": [
        "plt.figure(figsize=(15,8))\n",
        "sns.histplot(x='loan_amnt',data=df2[(df2[\"loan_status\"]=='Fully Paid')])"
      ]
    },
    {
      "cell_type": "markdown",
      "id": "01b4e012",
      "metadata": {
        "id": "01b4e012"
      },
      "source": [
        "as we can se maximum loan is of 10k-11k, approx 2500 people have got loan for that amount have paid their loan"
      ]
    },
    {
      "cell_type": "code",
      "execution_count": null,
      "id": "03738ce8",
      "metadata": {
        "colab": {
          "base_uri": "https://localhost:8080/",
          "height": 515
        },
        "id": "03738ce8",
        "outputId": "a3305236-0df4-47b0-e2c8-77a2a3aa936c"
      },
      "outputs": [
        {
          "output_type": "execute_result",
          "data": {
            "text/plain": [
              "<matplotlib.axes._subplots.AxesSubplot at 0x7febcca1d090>"
            ]
          },
          "metadata": {},
          "execution_count": 82
        },
        {
          "output_type": "display_data",
          "data": {
            "text/plain": [
              "<Figure size 1080x576 with 1 Axes>"
            ],
            "image/png": "[encoded data removed]"
          },
          "metadata": {
            "needs_background": "light"
          }
        }
      ],
      "source": [
        "plt.figure(figsize=(15,8))\n",
        "sns.histplot(x='loan_amnt',data=df2[(df2[\"loan_status\"]=='Charged Off')])"
      ]
    },
    {
      "cell_type": "markdown",
      "id": "4626d034",
      "metadata": {
        "id": "4626d034"
      },
      "source": [
        "people who took loan around 5k-15k could not pay their laon"
      ]
    },
    {
      "cell_type": "code",
      "execution_count": null,
      "id": "08999adf",
      "metadata": {
        "colab": {
          "base_uri": "https://localhost:8080/"
        },
        "id": "08999adf",
        "outputId": "a6a290d6-f0ac-4a90-a80a-c058939ae407"
      },
      "outputs": [
        {
          "output_type": "execute_result",
          "data": {
            "text/plain": [
              "10000    2686\n",
              "12000    2147\n",
              "5000     1979\n",
              "6000     1835\n",
              "15000    1713\n",
              "         ... \n",
              "1650        1\n",
              "18875       1\n",
              "14850       1\n",
              "14350       1\n",
              "21300       1\n",
              "Name: loan_amnt, Length: 771, dtype: int64"
            ]
          },
          "metadata": {},
          "execution_count": 83
        }
      ],
      "source": [
        "df2.loan_amnt.value_counts()"
      ]
    },
    {
      "cell_type": "code",
      "execution_count": null,
      "id": "244c9eff",
      "metadata": {
        "colab": {
          "base_uri": "https://localhost:8080/",
          "height": 297
        },
        "id": "244c9eff",
        "outputId": "a3b28aed-bbfc-4701-8fcf-67aa84ba2fa7"
      },
      "outputs": [
        {
          "output_type": "execute_result",
          "data": {
            "text/plain": [
              "<matplotlib.axes._subplots.AxesSubplot at 0x7febcc9bdf50>"
            ]
          },
          "metadata": {},
          "execution_count": 84
        },
        {
          "output_type": "display_data",
          "data": {
            "text/plain": [
              "<Figure size 432x288 with 1 Axes>"
            ],
            "image/png": "[encoded data removed]"
          },
          "metadata": {
            "needs_background": "light"
          }
        }
      ],
      "source": [
        "df2[\"loan_bins\"]=pd.cut(df2[\"loan_amnt\"],bins=6,precision=0,labels=['0-5k','5-10k','10-20k','20k-25k','25k-30k','30k-35k'])\n",
        "sns.barplot(x=df2[\"loan_bins\"] , y=df2[\"annual_inc\"])"
      ]
    },
    {
      "cell_type": "code",
      "execution_count": null,
      "id": "123b8b9d",
      "metadata": {
        "id": "123b8b9d"
      },
      "outputs": [],
      "source": []
    },
    {
      "cell_type": "markdown",
      "id": "91e0e9b3",
      "metadata": {
        "id": "91e0e9b3"
      },
      "source": [
        "As observed the loan amount increases with the annual income- so people who are taking higher loan are generally from higher income category"
      ]
    },
    {
      "cell_type": "code",
      "execution_count": null,
      "id": "1b981693",
      "metadata": {
        "colab": {
          "base_uri": "https://localhost:8080/",
          "height": 406
        },
        "id": "1b981693",
        "outputId": "f82446cb-9ba7-4998-8fe0-394badb036a4"
      },
      "outputs": [
        {
          "output_type": "execute_result",
          "data": {
            "text/plain": [
              "<matplotlib.axes._subplots.AxesSubplot at 0x7febcc941290>"
            ]
          },
          "metadata": {},
          "execution_count": 85
        },
        {
          "output_type": "display_data",
          "data": {
            "text/plain": [
              "<Figure size 1080x432 with 1 Axes>"
            ],
            "image/png": "[encoded data removed]"
          },
          "metadata": {
            "needs_background": "light"
          }
        }
      ],
      "source": [
        "fig,ax = plt.subplots(figsize = (15,6))\n",
        "ax.set_yscale('log')\n",
        "sns.countplot(x='loan_bins', data=df2[df2['loan_status']=='Charged Off'])"
      ]
    },
    {
      "cell_type": "markdown",
      "id": "35fc6ebe",
      "metadata": {
        "id": "35fc6ebe"
      },
      "source": [
        "Maximum No of people to default on the loans are those given loan between 5-10k"
      ]
    },
    {
      "cell_type": "code",
      "execution_count": null,
      "id": "56f1df48",
      "metadata": {
        "id": "56f1df48"
      },
      "outputs": [],
      "source": []
    },
    {
      "cell_type": "code",
      "execution_count": null,
      "id": "994ac693",
      "metadata": {
        "id": "994ac693"
      },
      "outputs": [],
      "source": [
        "df2['int_rate']=df2['int_rate'].astype(float)"
      ]
    },
    {
      "cell_type": "code",
      "execution_count": null,
      "id": "a0a2cbd3",
      "metadata": {
        "id": "a0a2cbd3"
      },
      "outputs": [],
      "source": [
        "\n",
        "df2['int_bins'] = pd.cut(df2['int_rate'], bins=5,precision =0,labels=['5%-9%','9%-13%','13%-17%','17%-21%','21%-24%'])"
      ]
    },
    {
      "cell_type": "code",
      "execution_count": null,
      "id": "bdcdd69b",
      "metadata": {
        "colab": {
          "base_uri": "https://localhost:8080/"
        },
        "id": "bdcdd69b",
        "outputId": "d907690e-801f-462c-c2aa-7ebb4226f4ff"
      },
      "outputs": [
        {
          "output_type": "execute_result",
          "data": {
            "text/plain": [
              "0         9%-13%\n",
              "1        13%-17%\n",
              "2        13%-17%\n",
              "3        13%-17%\n",
              "5          5%-9%\n",
              "          ...   \n",
              "39711      5%-9%\n",
              "39712      5%-9%\n",
              "39713     9%-13%\n",
              "39714      5%-9%\n",
              "39716    13%-17%\n",
              "Name: int_bins, Length: 35526, dtype: category\n",
              "Categories (5, object): ['5%-9%' < '9%-13%' < '13%-17%' < '17%-21%' < '21%-24%']"
            ]
          },
          "metadata": {},
          "execution_count": 88
        }
      ],
      "source": [
        "df2[\"int_bins\"]"
      ]
    },
    {
      "cell_type": "code",
      "execution_count": null,
      "id": "1306d2fe",
      "metadata": {
        "id": "1306d2fe"
      },
      "outputs": [],
      "source": []
    },
    {
      "cell_type": "code",
      "execution_count": null,
      "id": "75f81361",
      "metadata": {
        "colab": {
          "base_uri": "https://localhost:8080/",
          "height": 623
        },
        "id": "75f81361",
        "outputId": "5e62c093-247b-48a2-d74e-88e8e94ff45b"
      },
      "outputs": [
        {
          "output_type": "execute_result",
          "data": {
            "text/plain": [
              "<matplotlib.axes._subplots.AxesSubplot at 0x7febcd38f950>"
            ]
          },
          "metadata": {},
          "execution_count": 89
        },
        {
          "output_type": "display_data",
          "data": {
            "text/plain": [
              "<Figure size 1440x720 with 1 Axes>"
            ],
            "image/png": "[encoded data removed]"
          },
          "metadata": {
            "needs_background": "light"
          }
        }
      ],
      "source": [
        "plt.figure(figsize=(20,10))\n",
        "sns.barplot( data =df2, x='emp_length', y='loan_amnt', hue ='loan_status')\n"
      ]
    },
    {
      "cell_type": "code",
      "execution_count": null,
      "id": "ff924a0f",
      "metadata": {
        "id": "ff924a0f"
      },
      "outputs": [],
      "source": [
        "#people not able to pay the loan increases with their employment length "
      ]
    },
    {
      "cell_type": "code",
      "execution_count": null,
      "id": "6fefcd71",
      "metadata": {
        "id": "6fefcd71"
      },
      "outputs": [],
      "source": []
    },
    {
      "cell_type": "code",
      "execution_count": null,
      "id": "a8df3760",
      "metadata": {
        "id": "a8df3760"
      },
      "outputs": [],
      "source": []
    },
    {
      "cell_type": "code",
      "execution_count": null,
      "id": "4ace549b",
      "metadata": {
        "colab": {
          "base_uri": "https://localhost:8080/"
        },
        "id": "4ace549b",
        "outputId": "bdbdbbc4-c13b-49d5-a281-1a84954a44da"
      },
      "outputs": [
        {
          "output_type": "execute_result",
          "data": {
            "text/plain": [
              "0    2\n",
              "1    4\n",
              "2    5\n",
              "3    1\n",
              "5    4\n",
              "Name: sub_grade, dtype: int64"
            ]
          },
          "metadata": {},
          "execution_count": 91
        }
      ],
      "source": [
        "df2.sub_grade = pd.to_numeric(df2.sub_grade.apply(lambda x : x[-1]))\n",
        "df2.sub_grade.head()"
      ]
    },
    {
      "cell_type": "code",
      "execution_count": null,
      "id": "04292c5a",
      "metadata": {
        "scrolled": true,
        "colab": {
          "base_uri": "https://localhost:8080/",
          "height": 459
        },
        "id": "04292c5a",
        "outputId": "386e2996-dc39-4810-a962-4a60b17ad60d"
      },
      "outputs": [
        {
          "output_type": "execute_result",
          "data": {
            "text/plain": [
              "<matplotlib.axes._subplots.AxesSubplot at 0x7febcc79a290>"
            ]
          },
          "metadata": {},
          "execution_count": 92
        },
        {
          "output_type": "display_data",
          "data": {
            "text/plain": [
              "<Figure size 864x504 with 1 Axes>"
            ],
            "image/png": "[encoded data removed]"
          },
          "metadata": {
            "needs_background": "light"
          }
        }
      ],
      "source": [
        "fig, ax = plt.subplots(figsize=(12,7))\n",
        "sns.set_palette('colorblind')\n",
        "sns.countplot(x = 'grade', order = ['A', 'B', 'C', 'D', 'E', 'F', 'G'] , hue = 'sub_grade',data = df2\n",
        "              [df2.loan_status == 'Charged Off'])"
      ]
    },
    {
      "cell_type": "code",
      "execution_count": null,
      "id": "2f23463b",
      "metadata": {
        "colab": {
          "base_uri": "https://localhost:8080/",
          "height": 299
        },
        "id": "2f23463b",
        "outputId": "8ac710fa-816f-402b-e31b-1600b772e470"
      },
      "outputs": [
        {
          "output_type": "execute_result",
          "data": {
            "text/plain": [
              "<matplotlib.axes._subplots.AxesSubplot at 0x7febcc66a890>"
            ]
          },
          "metadata": {},
          "execution_count": 93
        },
        {
          "output_type": "display_data",
          "data": {
            "text/plain": [
              "<Figure size 432x288 with 1 Axes>"
            ],
            "image/png": "[encoded data removed]"
          },
          "metadata": {
            "needs_background": "light"
          }
        }
      ],
      "source": [
        "sns.countplot(x = 'grade', data = df2[df2.loan_status == 'Charged Off'], order = ['A', 'B', 'C', 'D', 'E', 'F', 'G'])"
      ]
    },
    {
      "cell_type": "markdown",
      "id": "26703936",
      "metadata": {
        "id": "26703936"
      },
      "source": [
        "####  Analyzing home_ownership"
      ]
    },
    {
      "cell_type": "code",
      "execution_count": null,
      "id": "c6822359",
      "metadata": {
        "colab": {
          "base_uri": "https://localhost:8080/"
        },
        "id": "c6822359",
        "outputId": "20642dd0-6b22-4d4c-d6b9-f732ad545af0"
      },
      "outputs": [
        {
          "output_type": "execute_result",
          "data": {
            "text/plain": [
              "array(['RENT', 'OWN', 'MORTGAGE', 'OTHER', 'NONE'], dtype=object)"
            ]
          },
          "metadata": {},
          "execution_count": 94
        }
      ],
      "source": [
        "#checking unique values for home_ownership\n",
        "df2['home_ownership'].unique()\n"
      ]
    },
    {
      "cell_type": "markdown",
      "id": "808bbbc5",
      "metadata": {
        "id": "808bbbc5"
      },
      "source": [
        "#### There are only 3 records with 'NONE' value in the data. So replacing the value with 'OTHER'"
      ]
    },
    {
      "cell_type": "code",
      "execution_count": null,
      "id": "88b1eafa",
      "metadata": {
        "id": "88b1eafa"
      },
      "outputs": [],
      "source": [
        "#replacing 'NONE' with 'OTHERS'\n",
        "df2['home_ownership'].replace(to_replace = ['NONE'],value='OTHER',inplace = True)"
      ]
    },
    {
      "cell_type": "code",
      "execution_count": null,
      "id": "ae9c4a33",
      "metadata": {
        "colab": {
          "base_uri": "https://localhost:8080/"
        },
        "id": "ae9c4a33",
        "outputId": "8423a0ac-3062-4006-cff8-2c21163699ce"
      },
      "outputs": [
        {
          "output_type": "execute_result",
          "data": {
            "text/plain": [
              "array(['RENT', 'OWN', 'MORTGAGE', 'OTHER'], dtype=object)"
            ]
          },
          "metadata": {},
          "execution_count": 96
        }
      ],
      "source": [
        "#checking unique values for home_ownership again\n",
        "df2['home_ownership'].unique()"
      ]
    },
    {
      "cell_type": "code",
      "execution_count": null,
      "id": "a9d5b9f2",
      "metadata": {
        "colab": {
          "base_uri": "https://localhost:8080/"
        },
        "id": "a9d5b9f2",
        "outputId": "2b463b4f-a366-4e47-a77f-f8c434e38f98"
      },
      "outputs": [
        {
          "output_type": "execute_result",
          "data": {
            "text/plain": [
              "<matplotlib.axes._subplots.AxesSubplot at 0x7febcc5f1790>"
            ]
          },
          "metadata": {},
          "execution_count": 97
        },
        {
          "output_type": "display_data",
          "data": {
            "text/plain": [
              "<Figure size 432x288 with 1 Axes>"
            ],
            "image/png": "[encoded data removed]"
          },
          "metadata": {
            "needs_background": "light"
          }
        }
      ],
      "source": [
        "fig, ax = plt.subplots(figsize = (6,4))\n",
        "ax.set(yscale = 'log')\n",
        "sns.countplot(x='home_ownership', data=df2[df2['loan_status']=='Charged Off'])"
      ]
    },
    {
      "cell_type": "markdown",
      "id": "becdcce1",
      "metadata": {
        "id": "becdcce1"
      },
      "source": [
        "####  Analyzing purpose"
      ]
    },
    {
      "cell_type": "code",
      "execution_count": null,
      "id": "3c6553a3",
      "metadata": {
        "colab": {
          "base_uri": "https://localhost:8080/",
          "height": 518
        },
        "id": "3c6553a3",
        "outputId": "fb12316a-c9d6-43bc-82f2-7a9c7cc8ec24"
      },
      "outputs": [
        {
          "output_type": "execute_result",
          "data": {
            "text/plain": [
              "<matplotlib.axes._subplots.AxesSubplot at 0x7febcc4f97d0>"
            ]
          },
          "metadata": {},
          "execution_count": 98
        },
        {
          "output_type": "display_data",
          "data": {
            "text/plain": [
              "<Figure size 864x576 with 1 Axes>"
            ],
            "image/png": "[encoded data removed]"
          },
          "metadata": {
            "needs_background": "light"
          }
        }
      ],
      "source": [
        "fig, ax = plt.subplots(figsize = (12,8))\n",
        "ax.set(xscale = 'log')\n",
        "sns.countplot(y ='purpose', data=df2[df2.loan_status == 'Charged Off'])"
      ]
    },
    {
      "cell_type": "markdown",
      "id": "88bb10e6",
      "metadata": {
        "id": "88bb10e6"
      },
      "source": [
        "#### Analyzing interest rate wrt the interest rate bins created"
      ]
    },
    {
      "cell_type": "code",
      "execution_count": null,
      "id": "53bcd356",
      "metadata": {
        "colab": {
          "base_uri": "https://localhost:8080/",
          "height": 329
        },
        "id": "53bcd356",
        "outputId": "949efff8-5f32-4d5f-99d4-90d9fc163e0b"
      },
      "outputs": [
        {
          "output_type": "execute_result",
          "data": {
            "text/plain": [
              "<matplotlib.axes._subplots.AxesSubplot at 0x7febcc373610>"
            ]
          },
          "metadata": {},
          "execution_count": 99
        },
        {
          "output_type": "display_data",
          "data": {
            "text/plain": [
              "<Figure size 1080x720 with 2 Axes>"
            ],
            "image/png": "[encoded data removed]"
          },
          "metadata": {
            "needs_background": "light"
          }
        }
      ],
      "source": [
        "fig, ax = plt.subplots(figsize = (15,10))\n",
        "plt.subplot(221)\n",
        "sns.countplot(x='int_bins', data=df2[df2.loan_status == 'Charged Off'])\n",
        "plt.xlabel('Interest Rate')\n",
        "plt.subplot(222)\n",
        "sns.countplot(x='emp_length', data=df2[df2.loan_status == 'Charged Off'])"
      ]
    },
    {
      "cell_type": "code",
      "execution_count": null,
      "id": "a0cc39ea",
      "metadata": {
        "id": "a0cc39ea"
      },
      "outputs": [],
      "source": [
        "df2['open_acc_bins'] = pd.cut(df2['open_acc'],bins = 5,precision =0,labels=['2-10','10-19','19-27','27-36','36-44'])\n",
        "df2['revol_util_bins'] = pd.cut(df2['revol_util'], bins=5,precision =0,labels=['0-20','20-40','40-60','60-80','80-100'])\n",
        "df2['total_acc_bins'] = pd.cut(df2['total_acc'], bins=5,precision =0,labels=['2-20','20-37','37-55','55-74','74-90'])\n",
        "df2['annual_inc_bins'] = pd.cut(df2['annual_inc'], bins=5,precision =0,labels =['3k-31k','31k-58k','58k-85k','85k-112k','112k-140k'])"
      ]
    },
    {
      "cell_type": "markdown",
      "id": "0bd6a0ab",
      "metadata": {
        "id": "0bd6a0ab"
      },
      "source": [
        "#### Similarly analyzing open_acc,revol_util,total_acc,annual_inc"
      ]
    },
    {
      "cell_type": "code",
      "execution_count": null,
      "id": "e063e2c6",
      "metadata": {
        "colab": {
          "base_uri": "https://localhost:8080/",
          "height": 352
        },
        "id": "e063e2c6",
        "outputId": "cdeca85f-065b-42ad-fc65-1a461bab074d"
      },
      "outputs": [
        {
          "output_type": "execute_result",
          "data": {
            "text/plain": [
              "<matplotlib.axes._subplots.AxesSubplot at 0x7febcc6d8d10>"
            ]
          },
          "metadata": {},
          "execution_count": 101
        },
        {
          "output_type": "display_data",
          "data": {
            "text/plain": [
              "<Figure size 504x360 with 1 Axes>"
            ],
            "image/png": "[encoded data removed]"
          },
          "metadata": {
            "needs_background": "light"
          }
        }
      ],
      "source": [
        "fig, ax = plt.subplots(figsize = (7,5))\n",
        "ax.set_yscale('log')\n",
        "sns.countplot(x='open_acc_bins', data=df2[df2.loan_status == 'Charged Off'])"
      ]
    },
    {
      "cell_type": "code",
      "execution_count": null,
      "id": "46e28036",
      "metadata": {
        "colab": {
          "base_uri": "https://localhost:8080/",
          "height": 297
        },
        "id": "46e28036",
        "outputId": "55efb6ec-a671-4152-8e67-235af7d2a431"
      },
      "outputs": [
        {
          "output_type": "execute_result",
          "data": {
            "text/plain": [
              "<matplotlib.axes._subplots.AxesSubplot at 0x7febcc1be5d0>"
            ]
          },
          "metadata": {},
          "execution_count": 102
        },
        {
          "output_type": "display_data",
          "data": {
            "text/plain": [
              "<Figure size 432x288 with 1 Axes>"
            ],
            "image/png": "[encoded data removed]"
          },
          "metadata": {
            "needs_background": "light"
          }
        }
      ],
      "source": [
        "sns.countplot(x='revol_util_bins', data=df2[df2.loan_status == 'Charged Off'])"
      ]
    },
    {
      "cell_type": "code",
      "execution_count": null,
      "id": "f8e0cd2d",
      "metadata": {
        "colab": {
          "base_uri": "https://localhost:8080/",
          "height": 406
        },
        "id": "f8e0cd2d",
        "outputId": "1140cd2e-8f70-4934-c875-934fec27f72c"
      },
      "outputs": [
        {
          "output_type": "execute_result",
          "data": {
            "text/plain": [
              "<matplotlib.axes._subplots.AxesSubplot at 0x7febcc198a10>"
            ]
          },
          "metadata": {},
          "execution_count": 103
        },
        {
          "output_type": "display_data",
          "data": {
            "text/plain": [
              "<Figure size 576x432 with 1 Axes>"
            ],
            "image/png": "[encoded data removed]"
          },
          "metadata": {
            "needs_background": "light"
          }
        }
      ],
      "source": [
        "fig, ax = plt.subplots(figsize = (8,6))\n",
        "ax.set_yscale('log')\n",
        "sns.countplot(x='total_acc_bins', data=df2[df2.loan_status == 'Charged Off'])"
      ]
    },
    {
      "cell_type": "code",
      "execution_count": null,
      "id": "9d5163e2",
      "metadata": {
        "colab": {
          "base_uri": "https://localhost:8080/",
          "height": 406
        },
        "id": "9d5163e2",
        "outputId": "acf970b4-f6d4-42f9-d67d-ee7b1efb6c81"
      },
      "outputs": [
        {
          "output_type": "execute_result",
          "data": {
            "text/plain": [
              "<matplotlib.axes._subplots.AxesSubplot at 0x7febcbfdd8d0>"
            ]
          },
          "metadata": {},
          "execution_count": 104
        },
        {
          "output_type": "display_data",
          "data": {
            "text/plain": [
              "<Figure size 720x432 with 1 Axes>"
            ],
            "image/png": "[encoded data removed]"
          },
          "metadata": {
            "needs_background": "light"
          }
        }
      ],
      "source": [
        "fig, ax = plt.subplots(figsize = (10,6))\n",
        "sns.countplot(x='annual_inc_bins', data=df2[df2.loan_status == 'Charged Off'])"
      ]
    },
    {
      "cell_type": "code",
      "execution_count": null,
      "id": "dadc73b2",
      "metadata": {
        "colab": {
          "base_uri": "https://localhost:8080/",
          "height": 296
        },
        "id": "dadc73b2",
        "outputId": "5407cd76-7e70-45ed-bfd7-09ac29782646"
      },
      "outputs": [
        {
          "output_type": "execute_result",
          "data": {
            "text/plain": [
              "<matplotlib.axes._subplots.AxesSubplot at 0x7febcbf71410>"
            ]
          },
          "metadata": {},
          "execution_count": 105
        },
        {
          "output_type": "display_data",
          "data": {
            "text/plain": [
              "<Figure size 432x288 with 1 Axes>"
            ],
            "image/png": "[encoded data removed]"
          },
          "metadata": {
            "needs_background": "light"
          }
        }
      ],
      "source": [
        "sns.countplot(y='term', data=df2[df2['loan_status']=='Charged Off'])"
      ]
    },
    {
      "cell_type": "code",
      "execution_count": null,
      "id": "bfbe1ddb",
      "metadata": {
        "colab": {
          "base_uri": "https://localhost:8080/",
          "height": 297
        },
        "id": "bfbe1ddb",
        "outputId": "2b86fd91-2091-455c-b9e5-fffea0dad167"
      },
      "outputs": [
        {
          "output_type": "execute_result",
          "data": {
            "text/plain": [
              "<matplotlib.axes._subplots.AxesSubplot at 0x7febcbf3d190>"
            ]
          },
          "metadata": {},
          "execution_count": 106
        },
        {
          "output_type": "display_data",
          "data": {
            "text/plain": [
              "<Figure size 432x288 with 1 Axes>"
            ],
            "image/png": "[encoded data removed]"
          },
          "metadata": {
            "needs_background": "light"
          }
        }
      ],
      "source": [
        "sns.countplot(x='verification_status', data=df2[df2['loan_status']=='Charged Off'])"
      ]
    },
    {
      "cell_type": "code",
      "execution_count": null,
      "id": "172ed581",
      "metadata": {
        "colab": {
          "base_uri": "https://localhost:8080/",
          "height": 515
        },
        "id": "172ed581",
        "outputId": "75d8fb3d-d844-4b8e-fbc9-16c00db39320"
      },
      "outputs": [
        {
          "output_type": "execute_result",
          "data": {
            "text/plain": [
              "<matplotlib.axes._subplots.AxesSubplot at 0x7febcbf19650>"
            ]
          },
          "metadata": {},
          "execution_count": 107
        },
        {
          "output_type": "display_data",
          "data": {
            "text/plain": [
              "<Figure size 720x576 with 1 Axes>"
            ],
            "image/png": "[encoded data removed]"
          },
          "metadata": {
            "needs_background": "light"
          }
        }
      ],
      "source": [
        "fig,ax = plt.subplots(figsize = (10,8))\n",
        "ax.set_yscale('log')\n",
        "sns.countplot(x='inq_last_6mths', data=df2[df2['loan_status']=='Charged Off'])"
      ]
    },
    {
      "cell_type": "code",
      "execution_count": null,
      "id": "01865bc3",
      "metadata": {
        "colab": {
          "base_uri": "https://localhost:8080/",
          "height": 352
        },
        "id": "01865bc3",
        "outputId": "74181513-56c5-4a28-ed5f-80f5802c74f2"
      },
      "outputs": [
        {
          "output_type": "execute_result",
          "data": {
            "text/plain": [
              "<matplotlib.axes._subplots.AxesSubplot at 0x7febcbd922d0>"
            ]
          },
          "metadata": {},
          "execution_count": 108
        },
        {
          "output_type": "display_data",
          "data": {
            "text/plain": [
              "<Figure size 504x360 with 1 Axes>"
            ],
            "image/png": "[encoded data removed]"
          },
          "metadata": {
            "needs_background": "light"
          }
        }
      ],
      "source": [
        "fig,ax = plt.subplots(figsize = (7,5))\n",
        "ax.set_yscale('log')\n",
        "sns.countplot(x='pub_rec', data=df2[df2['loan_status']=='Charged Off'])"
      ]
    },
    {
      "cell_type": "markdown",
      "id": "96de7de0",
      "metadata": {
        "id": "96de7de0"
      },
      "source": [
        "### Analyzing by issued month and year"
      ]
    },
    {
      "cell_type": "code",
      "execution_count": null,
      "id": "3579059f",
      "metadata": {
        "id": "3579059f"
      },
      "outputs": [],
      "source": [
        "## Extracting month and year\n",
        "df_month_year = df2['issue_d'].str.partition(\"-\", True)     \n",
        "df2['issue_month']=df_month_year[0]                       \n",
        "df2['issue_year']='20' + df_month_year[2]"
      ]
    },
    {
      "cell_type": "code",
      "execution_count": null,
      "id": "2a292690",
      "metadata": {
        "colab": {
          "base_uri": "https://localhost:8080/",
          "height": 300
        },
        "id": "2a292690",
        "outputId": "335ef6c5-1b64-470b-832c-600d923e7589"
      },
      "outputs": [
        {
          "output_type": "execute_result",
          "data": {
            "text/plain": [
              "       loan_amnt  funded_amnt  funded_amnt_inv term  int_rate  installment  \\\n",
              "39711       5000         5000            700.0   36      8.70       158.30   \n",
              "39712       2500         2500           1075.0   36      8.07        78.42   \n",
              "39713       8500         8500            875.0   36     10.28       275.38   \n",
              "39714       5000         5000           1325.0   36      8.07       156.84   \n",
              "39716       7500         7500            800.0   36     13.75       255.43   \n",
              "\n",
              "      grade  sub_grade  emp_length home_ownership  ...  next_pymnt_d  \\\n",
              "39711     B          1           5       MORTGAGE  ...           NaN   \n",
              "39712     A          4           4       MORTGAGE  ...           NaN   \n",
              "39713     C          1           3           RENT  ...           NaN   \n",
              "39714     A          4           1       MORTGAGE  ...           NaN   \n",
              "39716     E          2           1            OWN  ...           NaN   \n",
              "\n",
              "      pub_rec_bankruptcies loan_bins int_bins open_acc_bins revol_util_bins  \\\n",
              "39711                  0.0     5-10k    5%-9%          2-10           20-40   \n",
              "39712                  0.0      0-5k    5%-9%         10-19            0-20   \n",
              "39713                  0.0     5-10k   9%-13%          2-10           20-40   \n",
              "39714                  0.0     5-10k    5%-9%         10-19            0-20   \n",
              "39716                  0.0     5-10k  13%-17%          2-10           40-60   \n",
              "\n",
              "       total_acc_bins  annual_inc_bins issue_month  issue_year  \n",
              "39711           20-37          58k-85k         Jul        2007  \n",
              "39712           37-55         85k-112k         Jul        2007  \n",
              "39713            2-20           3k-31k         Jul        2007  \n",
              "39714           20-37         85k-112k         Jul        2007  \n",
              "39716            2-20           3k-31k         Jun        2007  \n",
              "\n",
              "[5 rows x 44 columns]"
            ],
            "text/html": [
              "\n",
              "  <div id=\"df-4ab936c5-83f3-4c4f-85eb-3891b88450d3\">\n",
              "    <div class=\"colab-df-container\">\n",
              "      <div>\n",
              "<style scoped>\n",
              "    .dataframe tbody tr th:only-of-type {\n",
              "        vertical-align: middle;\n",
              "    }\n",
              "\n",
              "    .dataframe tbody tr th {\n",
              "        vertical-align: top;\n",
              "    }\n",
              "\n",
              "    .dataframe thead th {\n",
              "        text-align: right;\n",
              "    }\n",
              "</style>\n",
              "<table border=\"1\" class=\"dataframe\">\n",
              "  <thead>\n",
              "    <tr style=\"text-align: right;\">\n",
              "      <th></th>\n",
              "      <th>loan_amnt</th>\n",
              "      <th>funded_amnt</th>\n",
              "      <th>funded_amnt_inv</th>\n",
              "      <th>term</th>\n",
              "      <th>int_rate</th>\n",
              "      <th>installment</th>\n",
              "      <th>grade</th>\n",
              "      <th>sub_grade</th>\n",
              "      <th>emp_length</th>\n",
              "      <th>home_ownership</th>\n",
              "      <th>...</th>\n",
              "      <th>next_pymnt_d</th>\n",
              "      <th>pub_rec_bankruptcies</th>\n",
              "      <th>loan_bins</th>\n",
              "      <th>int_bins</th>\n",
              "      <th>open_acc_bins</th>\n",
              "      <th>revol_util_bins</th>\n",
              "      <th>total_acc_bins</th>\n",
              "      <th>annual_inc_bins</th>\n",
              "      <th>issue_month</th>\n",
              "      <th>issue_year</th>\n",
              "    </tr>\n",
              "  </thead>\n",
              "  <tbody>\n",
              "    <tr>\n",
              "      <th>39711</th>\n",
              "      <td>5000</td>\n",
              "      <td>5000</td>\n",
              "      <td>700.0</td>\n",
              "      <td>36</td>\n",
              "      <td>8.70</td>\n",
              "      <td>158.30</td>\n",
              "      <td>B</td>\n",
              "      <td>1</td>\n",
              "      <td>5</td>\n",
              "      <td>MORTGAGE</td>\n",
              "      <td>...</td>\n",
              "      <td>NaN</td>\n",
              "      <td>0.0</td>\n",
              "      <td>5-10k</td>\n",
              "      <td>5%-9%</td>\n",
              "      <td>2-10</td>\n",
              "      <td>20-40</td>\n",
              "      <td>20-37</td>\n",
              "      <td>58k-85k</td>\n",
              "      <td>Jul</td>\n",
              "      <td>2007</td>\n",
              "    </tr>\n",
              "    <tr>\n",
              "      <th>39712</th>\n",
              "      <td>2500</td>\n",
              "      <td>2500</td>\n",
              "      <td>1075.0</td>\n",
              "      <td>36</td>\n",
              "      <td>8.07</td>\n",
              "      <td>78.42</td>\n",
              "      <td>A</td>\n",
              "      <td>4</td>\n",
              "      <td>4</td>\n",
              "      <td>MORTGAGE</td>\n",
              "      <td>...</td>\n",
              "      <td>NaN</td>\n",
              "      <td>0.0</td>\n",
              "      <td>0-5k</td>\n",
              "      <td>5%-9%</td>\n",
              "      <td>10-19</td>\n",
              "      <td>0-20</td>\n",
              "      <td>37-55</td>\n",
              "      <td>85k-112k</td>\n",
              "      <td>Jul</td>\n",
              "      <td>2007</td>\n",
              "    </tr>\n",
              "    <tr>\n",
              "      <th>39713</th>\n",
              "      <td>8500</td>\n",
              "      <td>8500</td>\n",
              "      <td>875.0</td>\n",
              "      <td>36</td>\n",
              "      <td>10.28</td>\n",
              "      <td>275.38</td>\n",
              "      <td>C</td>\n",
              "      <td>1</td>\n",
              "      <td>3</td>\n",
              "      <td>RENT</td>\n",
              "      <td>...</td>\n",
              "      <td>NaN</td>\n",
              "      <td>0.0</td>\n",
              "      <td>5-10k</td>\n",
              "      <td>9%-13%</td>\n",
              "      <td>2-10</td>\n",
              "      <td>20-40</td>\n",
              "      <td>2-20</td>\n",
              "      <td>3k-31k</td>\n",
              "      <td>Jul</td>\n",
              "      <td>2007</td>\n",
              "    </tr>\n",
              "    <tr>\n",
              "      <th>39714</th>\n",
              "      <td>5000</td>\n",
              "      <td>5000</td>\n",
              "      <td>1325.0</td>\n",
              "      <td>36</td>\n",
              "      <td>8.07</td>\n",
              "      <td>156.84</td>\n",
              "      <td>A</td>\n",
              "      <td>4</td>\n",
              "      <td>1</td>\n",
              "      <td>MORTGAGE</td>\n",
              "      <td>...</td>\n",
              "      <td>NaN</td>\n",
              "      <td>0.0</td>\n",
              "      <td>5-10k</td>\n",
              "      <td>5%-9%</td>\n",
              "      <td>10-19</td>\n",
              "      <td>0-20</td>\n",
              "      <td>20-37</td>\n",
              "      <td>85k-112k</td>\n",
              "      <td>Jul</td>\n",
              "      <td>2007</td>\n",
              "    </tr>\n",
              "    <tr>\n",
              "      <th>39716</th>\n",
              "      <td>7500</td>\n",
              "      <td>7500</td>\n",
              "      <td>800.0</td>\n",
              "      <td>36</td>\n",
              "      <td>13.75</td>\n",
              "      <td>255.43</td>\n",
              "      <td>E</td>\n",
              "      <td>2</td>\n",
              "      <td>1</td>\n",
              "      <td>OWN</td>\n",
              "      <td>...</td>\n",
              "      <td>NaN</td>\n",
              "      <td>0.0</td>\n",
              "      <td>5-10k</td>\n",
              "      <td>13%-17%</td>\n",
              "      <td>2-10</td>\n",
              "      <td>40-60</td>\n",
              "      <td>2-20</td>\n",
              "      <td>3k-31k</td>\n",
              "      <td>Jun</td>\n",
              "      <td>2007</td>\n",
              "    </tr>\n",
              "  </tbody>\n",
              "</table>\n",
              "<p>5 rows × 44 columns</p>\n",
              "</div>\n",
              "      <button class=\"colab-df-convert\" onclick=\"convertToInteractive('df-4ab936c5-83f3-4c4f-85eb-3891b88450d3')\"\n",
              "              title=\"Convert this dataframe to an interactive table.\"\n",
              "              style=\"display:none;\">\n",
              "        \n",
              "  <svg xmlns=\"http://www.w3.org/2000/svg\" height=\"24px\"viewBox=\"0 0 24 24\"\n",
              "       width=\"24px\">\n",
              "    <path d=\"M0 0h24v24H0V0z\" fill=\"none\"/>\n",
              "    <path d=\"M18.56 5.44l.94 2.06.94-2.06 2.06-.94-2.06-.94-.94-2.06-.94 2.06-2.06.94zm-11 1L8.5 8.5l.94-2.06 2.06-.94-2.06-.94L8.5 2.5l-.94 2.06-2.06.94zm10 10l.94 2.06.94-2.06 2.06-.94-2.06-.94-.94-2.06-.94 2.06-2.06.94z\"/><path d=\"M17.41 7.96l-1.37-1.37c-.4-.4-.92-.59-1.43-.59-.52 0-1.04.2-1.43.59L10.3 9.45l-7.72 7.72c-.78.78-.78 2.05 0 2.83L4 21.41c.39.39.9.59 1.41.59.51 0 1.02-.2 1.41-.59l7.78-7.78 2.81-2.81c.8-.78.8-2.07 0-2.86zM5.41 20L4 18.59l7.72-7.72 1.47 1.35L5.41 20z\"/>\n",
              "  </svg>\n",
              "      </button>\n",
              "      \n",
              "  <style>\n",
              "    .colab-df-container {\n",
              "      display:flex;\n",
              "      flex-wrap:wrap;\n",
              "      gap: 12px;\n",
              "    }\n",
              "\n",
              "    .colab-df-convert {\n",
              "      background-color: #E8F0FE;\n",
              "      border: none;\n",
              "      border-radius: 50%;\n",
              "      cursor: pointer;\n",
              "      display: none;\n",
              "      fill: #1967D2;\n",
              "      height: 32px;\n",
              "      padding: 0 0 0 0;\n",
              "      width: 32px;\n",
              "    }\n",
              "\n",
              "    .colab-df-convert:hover {\n",
              "      background-color: #E2EBFA;\n",
              "      box-shadow: 0px 1px 2px rgba(60, 64, 67, 0.3), 0px 1px 3px 1px rgba(60, 64, 67, 0.15);\n",
              "      fill: #174EA6;\n",
              "    }\n",
              "\n",
              "    [theme=dark] .colab-df-convert {\n",
              "      background-color: #3B4455;\n",
              "      fill: #D2E3FC;\n",
              "    }\n",
              "\n",
              "    [theme=dark] .colab-df-convert:hover {\n",
              "      background-color: #434B5C;\n",
              "      box-shadow: 0px 1px 3px 1px rgba(0, 0, 0, 0.15);\n",
              "      filter: drop-shadow(0px 1px 2px rgba(0, 0, 0, 0.3));\n",
              "      fill: #FFFFFF;\n",
              "    }\n",
              "  </style>\n",
              "\n",
              "      <script>\n",
              "        const buttonEl =\n",
              "          document.querySelector('#df-4ab936c5-83f3-4c4f-85eb-3891b88450d3 button.colab-df-convert');\n",
              "        buttonEl.style.display =\n",
              "          google.colab.kernel.accessAllowed ? 'block' : 'none';\n",
              "\n",
              "        async function convertToInteractive(key) {\n",
              "          const element = document.querySelector('#df-4ab936c5-83f3-4c4f-85eb-3891b88450d3');\n",
              "          const dataTable =\n",
              "            await google.colab.kernel.invokeFunction('convertToInteractive',\n",
              "                                                     [key], {});\n",
              "          if (!dataTable) return;\n",
              "\n",
              "          const docLinkHtml = 'Like what you see? Visit the ' +\n",
              "            '<a target=\"_blank\" href=https://colab.research.google.com/notebooks/data_table.ipynb>data table notebook</a>'\n",
              "            + ' to learn more about interactive tables.';\n",
              "          element.innerHTML = '';\n",
              "          dataTable['output_type'] = 'display_data';\n",
              "          await google.colab.output.renderOutput(dataTable, element);\n",
              "          const docLink = document.createElement('div');\n",
              "          docLink.innerHTML = docLinkHtml;\n",
              "          element.appendChild(docLink);\n",
              "        }\n",
              "      </script>\n",
              "    </div>\n",
              "  </div>\n",
              "  "
            ]
          },
          "metadata": {},
          "execution_count": 110
        }
      ],
      "source": [
        "df2.tail()"
      ]
    },
    {
      "cell_type": "code",
      "execution_count": null,
      "id": "ff52f092",
      "metadata": {
        "colab": {
          "base_uri": "https://localhost:8080/",
          "height": 453
        },
        "id": "ff52f092",
        "outputId": "3969c36b-00f8-4c1f-d79e-3ca0573f7e37"
      },
      "outputs": [
        {
          "output_type": "execute_result",
          "data": {
            "text/plain": [
              "<matplotlib.axes._subplots.AxesSubplot at 0x7febcbb17410>"
            ]
          },
          "metadata": {},
          "execution_count": 111
        },
        {
          "output_type": "display_data",
          "data": {
            "text/plain": [
              "<Figure size 1080x1080 with 2 Axes>"
            ],
            "image/png": "[encoded data removed]"
          },
          "metadata": {
            "needs_background": "light"
          }
        }
      ],
      "source": [
        "plt.figure(figsize=(15,15))\n",
        "plt.subplot(221)\n",
        "sns.countplot(x='issue_month', data=df2[df2['loan_status']=='Charged Off'])\n",
        "plt.subplot(222)\n",
        "sns.countplot(x='issue_year', data=df2[df2['loan_status']=='Charged Off'])"
      ]
    },
    {
      "cell_type": "markdown",
      "id": "54ea366f",
      "metadata": {
        "id": "54ea366f"
      },
      "source": [
        "### Maximum number of defaults occured when the loan was sanctioned/issued in Dec. Loan issued in the year 2011 were also as compared to other years\n",
        "\n",
        "### Analyzing installment,dti, loan_amnt "
      ]
    },
    {
      "cell_type": "code",
      "execution_count": null,
      "id": "88e3db66",
      "metadata": {
        "id": "88e3db66"
      },
      "outputs": [],
      "source": [
        "df2['installment_bins'] = pd.cut(df2['installment'], bins=10,precision =0,labels=['14-145','145-274','274-403','403-531','531-660','660-789','789-918','918-1047','1047-1176','1176-1305'])\n",
        "df2['funded_amnt_inv_bin'] = pd.cut(df2['funded_amnt_inv'], bins=7,labels=['0-5k','5k-10k','10k-15k','15k-20k','20k-25k','25k-30k','30k-35k']) \n",
        "df2['loan_amnt_bins'] = pd.cut(df2['loan_amnt'], bins=7,precision =0,labels=['0-5k','5k-10k','10k-15k','15k-20k','20k-25k','25k-30k','30k-35k'])\n",
        "df2['dti_bins'] = pd.cut(df2['dti'], bins=5,precision =0,labels=['0-6','6-12','12-18','18-24','24-30'])"
      ]
    },
    {
      "cell_type": "code",
      "execution_count": null,
      "id": "e7b82f19",
      "metadata": {
        "colab": {
          "base_uri": "https://localhost:8080/",
          "height": 352
        },
        "id": "e7b82f19",
        "outputId": "bc6c929a-b3d4-4454-d89d-b4409d80fd8d"
      },
      "outputs": [
        {
          "output_type": "execute_result",
          "data": {
            "text/plain": [
              "<matplotlib.axes._subplots.AxesSubplot at 0x7febcbf46450>"
            ]
          },
          "metadata": {},
          "execution_count": 113
        },
        {
          "output_type": "display_data",
          "data": {
            "text/plain": [
              "<Figure size 864x360 with 1 Axes>"
            ],
            "image/png": "[encoded data removed]"
          },
          "metadata": {
            "needs_background": "light"
          }
        }
      ],
      "source": [
        "fig,ax = plt.subplots(figsize = (12,5))\n",
        "ax.set_yscale('log')\n",
        "sns.countplot(x='funded_amnt_inv_bin', data=df2[df2['loan_status']=='Charged Off'])"
      ]
    },
    {
      "cell_type": "code",
      "execution_count": null,
      "id": "8a6f63b9",
      "metadata": {
        "colab": {
          "base_uri": "https://localhost:8080/",
          "height": 297
        },
        "id": "8a6f63b9",
        "outputId": "06d420db-1bde-4170-8803-f3bf5c857550"
      },
      "outputs": [
        {
          "output_type": "execute_result",
          "data": {
            "text/plain": [
              "<matplotlib.axes._subplots.AxesSubplot at 0x7febcbe91a10>"
            ]
          },
          "metadata": {},
          "execution_count": 114
        },
        {
          "output_type": "display_data",
          "data": {
            "text/plain": [
              "<Figure size 432x288 with 1 Axes>"
            ],
            "image/png": "[encoded data removed]"
          },
          "metadata": {
            "needs_background": "light"
          }
        }
      ],
      "source": [
        "sns.countplot(x='dti_bins', data=df2[df2['loan_status']=='Charged Off'])"
      ]
    },
    {
      "cell_type": "code",
      "execution_count": null,
      "id": "9fe78760",
      "metadata": {
        "colab": {
          "base_uri": "https://localhost:8080/",
          "height": 406
        },
        "id": "9fe78760",
        "outputId": "a8d6c12f-ecd9-4114-d3ac-e39d8ef28193"
      },
      "outputs": [
        {
          "output_type": "execute_result",
          "data": {
            "text/plain": [
              "<matplotlib.axes._subplots.AxesSubplot at 0x7febcb473bd0>"
            ]
          },
          "metadata": {},
          "execution_count": 115
        },
        {
          "output_type": "display_data",
          "data": {
            "text/plain": [
              "<Figure size 1080x432 with 1 Axes>"
            ],
            "image/png": "[encoded data removed]"
          },
          "metadata": {
            "needs_background": "light"
          }
        }
      ],
      "source": [
        "fig,ax = plt.subplots(figsize = (15,6))\n",
        "ax.set_yscale('log')\n",
        "sns.countplot(x='installment_bins', data=df2[df2['loan_status']=='Charged Off'])"
      ]
    },
    {
      "cell_type": "markdown",
      "id": "602e9a9c",
      "metadata": {
        "id": "602e9a9c"
      },
      "source": [
        "# Observations\n",
        "\n",
        "### The above analysis with respect to the charged off loans for each variable suggests the following. There is a more probability of defaulting when : \n",
        "\n",
        "- Applicants having house_ownership as 'RENT'\n",
        "- Applicants who use the loan to clear other debts\n",
        "- Applicants who receive interest at the rate of 13-17%\n",
        "- Applicants who have an income of range 31k - 58k\n",
        "- Applicants who have 2-10 open_acc\n",
        "- Applicants with employement length of 10\n",
        "- When funded amount by investor is between 5000-10000\n",
        "- Loan amount is between 5429 - 10357\n",
        "- Dti is between 12-18\n",
        "- When monthly installments are between 145-274\n",
        "- Term of 36 months\n",
        "- When the loan status is Not verified\n",
        "- When the no of enquiries in last 6 months is 0\n",
        "- When the number of derogatory public records is 0\n",
        "- When the purpose is 'debt_consolidation'\n",
        "- Grade is 'B'\n",
        "- And a total grade of 'B5' level."
      ]
    },
    {
      "cell_type": "markdown",
      "id": "1d5d824b",
      "metadata": {
        "id": "1d5d824b"
      },
      "source": [
        "## Analysing annual income with other columns for more insights "
      ]
    },
    {
      "cell_type": "markdown",
      "id": "fcf9b94e",
      "metadata": {
        "id": "fcf9b94e"
      },
      "source": [
        "#### 1.Annual income vs loan purpose"
      ]
    },
    {
      "cell_type": "code",
      "execution_count": null,
      "id": "76b5df88",
      "metadata": {
        "colab": {
          "base_uri": "https://localhost:8080/",
          "height": 606
        },
        "id": "76b5df88",
        "outputId": "80b2ad0f-3a9e-43f2-a408-e52ee246d3f7"
      },
      "outputs": [
        {
          "output_type": "display_data",
          "data": {
            "text/plain": [
              "<Figure size 720x720 with 1 Axes>"
            ],
            "image/png": "[encoded data removed]"
          },
          "metadata": {
            "needs_background": "light"
          }
        }
      ],
      "source": [
        "plt.figure(figsize=(10,10))\n",
        "sns.barplot(data =df2,x='annual_inc', y='purpose', hue ='loan_status',palette=\"deep\")\n",
        "plt.show()"
      ]
    },
    {
      "cell_type": "markdown",
      "id": "adc89c9c",
      "metadata": {
        "id": "adc89c9c"
      },
      "source": [
        "### Though the number of loans applied and defaulted are the highest in number for \"debt_consolation\", the annual income of those who applied isn't the highest. \n",
        "- Applicants with higher salary mostly applied loans for \"home_improvment\", \"house\", \"renewable_energy\" and \"small_businesses\""
      ]
    },
    {
      "cell_type": "markdown",
      "id": "b1225309",
      "metadata": {
        "id": "b1225309"
      },
      "source": [
        "#### 2.Annual income vs home ownership"
      ]
    },
    {
      "cell_type": "code",
      "execution_count": null,
      "id": "d6af0202",
      "metadata": {
        "colab": {
          "base_uri": "https://localhost:8080/",
          "height": 606
        },
        "id": "d6af0202",
        "outputId": "fe38e10a-7ce3-4bf1-ef43-bab49e54b2f7"
      },
      "outputs": [
        {
          "output_type": "display_data",
          "data": {
            "text/plain": [
              "<Figure size 720x720 with 1 Axes>"
            ],
            "image/png": "[encoded data removed]"
          },
          "metadata": {
            "needs_background": "light"
          }
        }
      ],
      "source": [
        "plt.figure(figsize=(10,10))\n",
        "sns.barplot(data =df2 ,x='home_ownership', y='annual_inc', hue ='loan_status',palette=\"mako\")\n",
        "plt.show()"
      ]
    },
    {
      "cell_type": "markdown",
      "id": "cb5ba136",
      "metadata": {
        "id": "cb5ba136"
      },
      "source": []
    },
    {
      "cell_type": "markdown",
      "id": "a29dd3c6",
      "metadata": {
        "id": "a29dd3c6"
      },
      "source": [
        "### Annual Income vs Loan amount"
      ]
    },
    {
      "cell_type": "code",
      "execution_count": null,
      "id": "c4703382",
      "metadata": {
        "colab": {
          "base_uri": "https://localhost:8080/",
          "height": 297
        },
        "id": "c4703382",
        "outputId": "8e0a536e-5f98-4c4a-b830-3e339d80a3e8"
      },
      "outputs": [
        {
          "output_type": "execute_result",
          "data": {
            "text/plain": [
              "<matplotlib.axes._subplots.AxesSubplot at 0x7febcb17e9d0>"
            ]
          },
          "metadata": {},
          "execution_count": 118
        },
        {
          "output_type": "display_data",
          "data": {
            "text/plain": [
              "<Figure size 432x288 with 1 Axes>"
            ],
            "image/png": "[encoded data removed]"
          },
          "metadata": {
            "needs_background": "light"
          }
        }
      ],
      "source": [
        "sns.barplot(x = \"annual_inc_bins\", y = \"loan_amnt\", hue = 'loan_status', data = df2)"
      ]
    },
    {
      "cell_type": "markdown",
      "id": "c636363b",
      "metadata": {
        "id": "c636363b"
      },
      "source": [
        "### Across all the income bins, the loan_amount is higher for people who defaulted."
      ]
    },
    {
      "cell_type": "markdown",
      "id": "810d7871",
      "metadata": {
        "id": "810d7871"
      },
      "source": [
        "#### 3. Annual income vs int_rate"
      ]
    },
    {
      "cell_type": "code",
      "execution_count": null,
      "id": "e1b603d0",
      "metadata": {
        "colab": {
          "base_uri": "https://localhost:8080/",
          "height": 607
        },
        "id": "e1b603d0",
        "outputId": "77d97183-aa63-47c3-cecf-8693a06b75f8"
      },
      "outputs": [
        {
          "output_type": "display_data",
          "data": {
            "text/plain": [
              "<Figure size 720x720 with 1 Axes>"
            ],
            "image/png": "[encoded data removed]"
          },
          "metadata": {
            "needs_background": "light"
          }
        }
      ],
      "source": [
        "plt.figure(figsize=(10,10))\n",
        "sns.barplot(data =df2,x='int_bins', y='annual_inc', hue ='loan_status')\n",
        "plt.show()"
      ]
    },
    {
      "cell_type": "markdown",
      "id": "20afee35",
      "metadata": {
        "id": "20afee35"
      },
      "source": [
        "## Analysing loan_amount with other columns for more insights "
      ]
    },
    {
      "cell_type": "markdown",
      "id": "695b5d49",
      "metadata": {
        "id": "695b5d49"
      },
      "source": [
        "#### 1.Loan Amount vs Interest Rate"
      ]
    },
    {
      "cell_type": "code",
      "execution_count": null,
      "id": "57f12416",
      "metadata": {
        "colab": {
          "base_uri": "https://localhost:8080/",
          "height": 606
        },
        "id": "57f12416",
        "outputId": "cd35dff1-5e43-4e61-ac3c-1e2a1513e70a"
      },
      "outputs": [
        {
          "output_type": "display_data",
          "data": {
            "text/plain": [
              "<Figure size 720x720 with 1 Axes>"
            ],
            "image/png": "[encoded data removed]"
          },
          "metadata": {
            "needs_background": "light"
          }
        }
      ],
      "source": [
        "plt.figure(figsize=(10,10))\n",
        "sns.barplot(data =df2,x='loan_amnt_bins', y='int_rate', hue ='loan_status',palette=\"mako\")\n",
        "plt.show()"
      ]
    },
    {
      "cell_type": "markdown",
      "id": "13ab2d76",
      "metadata": {
        "id": "13ab2d76"
      },
      "source": [
        "#### 2.Loan vs Loan purpose"
      ]
    },
    {
      "cell_type": "code",
      "execution_count": null,
      "id": "052c5bd4",
      "metadata": {
        "colab": {
          "base_uri": "https://localhost:8080/",
          "height": 606
        },
        "id": "052c5bd4",
        "outputId": "f6e27676-e0de-48a1-b979-481ff0012ef7"
      },
      "outputs": [
        {
          "output_type": "display_data",
          "data": {
            "text/plain": [
              "<Figure size 720x720 with 1 Axes>"
            ],
            "image/png": "[encoded data removed]"
          },
          "metadata": {
            "needs_background": "light"
          }
        }
      ],
      "source": [
        "plt.figure(figsize=(10,10))\n",
        "sns.barplot(data =df2 ,x='loan_amnt', y='purpose', hue ='loan_status',palette=\"mako\")\n",
        "plt.show()"
      ]
    },
    {
      "cell_type": "markdown",
      "id": "a2b21054",
      "metadata": {
        "id": "a2b21054"
      },
      "source": [
        "#### 3.Loan vs House Ownership"
      ]
    },
    {
      "cell_type": "code",
      "execution_count": null,
      "id": "c0a0e576",
      "metadata": {
        "colab": {
          "base_uri": "https://localhost:8080/",
          "height": 606
        },
        "id": "c0a0e576",
        "outputId": "31e8915f-db85-4ec1-97ae-e8eab057bf14"
      },
      "outputs": [
        {
          "output_type": "display_data",
          "data": {
            "text/plain": [
              "<Figure size 720x720 with 1 Axes>"
            ],
            "image/png": "[encoded data removed]"
          },
          "metadata": {
            "needs_background": "light"
          }
        }
      ],
      "source": [
        "plt.figure(figsize=(10,10))\n",
        "sns.barplot(data =df2 ,x='loan_amnt', y='home_ownership', hue ='loan_status',palette=\"mako\")\n",
        "plt.show()"
      ]
    },
    {
      "cell_type": "markdown",
      "id": "0cfc95e3",
      "metadata": {
        "id": "0cfc95e3"
      },
      "source": [
        "#### 4.Loan amount vs month issued and year issued"
      ]
    },
    {
      "cell_type": "code",
      "execution_count": null,
      "id": "dc83a9a1",
      "metadata": {
        "colab": {
          "base_uri": "https://localhost:8080/",
          "height": 574
        },
        "id": "dc83a9a1",
        "outputId": "faa82039-547f-48dd-ad1a-e47ed1759254"
      },
      "outputs": [
        {
          "output_type": "execute_result",
          "data": {
            "text/plain": [
              "<matplotlib.axes._subplots.AxesSubplot at 0x7febcad38210>"
            ]
          },
          "metadata": {},
          "execution_count": 123
        },
        {
          "output_type": "display_data",
          "data": {
            "text/plain": [
              "<Figure size 1440x1440 with 2 Axes>"
            ],
            "image/png": "[encoded data removed]"
          },
          "metadata": {
            "needs_background": "light"
          }
        }
      ],
      "source": [
        "plt.figure(figsize=(20,20))\n",
        "plt.subplot(221)\n",
        "sns.lineplot(data =df2 ,y='loan_amnt', x='issue_month', hue ='loan_status',palette=\"mako\")\n",
        "plt.subplot(222)\n",
        "sns.lineplot(data =df2,y='loan_amnt', x='issue_year', hue ='loan_status',palette=\"mako\")"
      ]
    },
    {
      "cell_type": "markdown",
      "id": "a1e92e13",
      "metadata": {
        "id": "a1e92e13"
      },
      "source": [
        "#### 5.Loan amount vs Grade"
      ]
    },
    {
      "cell_type": "code",
      "execution_count": null,
      "id": "11d5f333",
      "metadata": {
        "colab": {
          "base_uri": "https://localhost:8080/",
          "height": 606
        },
        "id": "11d5f333",
        "outputId": "0df9d4e9-bd06-429d-c607-c06d01390dbf"
      },
      "outputs": [
        {
          "output_type": "display_data",
          "data": {
            "text/plain": [
              "<Figure size 720x720 with 1 Axes>"
            ],
            "image/png": "[encoded data removed]"
          },
          "metadata": {
            "needs_background": "light"
          }
        }
      ],
      "source": [
        "plt.figure(figsize=(10,10))\n",
        "sns.barplot(data =df2 ,x='loan_amnt', y='grade', hue ='loan_status',palette=\"mako\", order=['A','B','C','D','E','F','G'])\n",
        "plt.show()"
      ]
    },
    {
      "cell_type": "code",
      "execution_count": null,
      "id": "da3169fe",
      "metadata": {
        "colab": {
          "base_uri": "https://localhost:8080/",
          "height": 574
        },
        "id": "da3169fe",
        "outputId": "e1e232e0-9801-4c5c-85d5-8469432e56fa"
      },
      "outputs": [
        {
          "output_type": "execute_result",
          "data": {
            "text/plain": [
              "<matplotlib.axes._subplots.AxesSubplot at 0x7febcae26a10>"
            ]
          },
          "metadata": {},
          "execution_count": 125
        },
        {
          "output_type": "display_data",
          "data": {
            "text/plain": [
              "<Figure size 1440x1440 with 2 Axes>"
            ],
            "image/png": "[encoded data removed]"
          },
          "metadata": {
            "needs_background": "light"
          }
        }
      ],
      "source": [
        "plt.figure(figsize=(20,20))\n",
        "plt.subplot(221)\n",
        "sns.barplot(data =df2,y='loan_amnt', x='emp_length', hue ='loan_status',palette=\"mako\")\n",
        "plt.subplot(222)\n",
        "sns.barplot(data =df2 ,y='loan_amnt', x='verification_status', hue ='loan_status',palette=\"mako\")"
      ]
    },
    {
      "cell_type": "markdown",
      "id": "9bf69026",
      "metadata": {
        "id": "9bf69026"
      },
      "source": [
        "### Employees with longer working history got the loan approved for a higher amount. \n",
        "- Looking at the verification status data,income verified loan applications tend to have higher loan amount. Which might indicate that the firms are sanctioning high loan amount for applicants whose income is verified"
      ]
    },
    {
      "cell_type": "markdown",
      "id": "e42b49e6",
      "metadata": {
        "id": "e42b49e6"
      },
      "source": [
        "#### grade vs interest rate"
      ]
    },
    {
      "cell_type": "code",
      "execution_count": null,
      "id": "c61cef67",
      "metadata": {
        "colab": {
          "base_uri": "https://localhost:8080/",
          "height": 606
        },
        "id": "c61cef67",
        "outputId": "1995fff5-8b3e-4d5c-e125-e7a1e0bc11c1"
      },
      "outputs": [
        {
          "output_type": "display_data",
          "data": {
            "text/plain": [
              "<Figure size 720x720 with 1 Axes>"
            ],
            "image/png": "[encoded data removed]"
          },
          "metadata": {
            "needs_background": "light"
          }
        }
      ],
      "source": [
        "plt.figure(figsize=(10,10))\n",
        "sns.barplot(data =df2,x='int_rate', y='grade', hue ='loan_status',palette=\"mako\", order=['A','B','C','D','E','F','G'])\n",
        "plt.show()"
      ]
    },
    {
      "cell_type": "code",
      "execution_count": null,
      "id": "430d6fe5",
      "metadata": {
        "id": "430d6fe5"
      },
      "outputs": [],
      "source": [
        "# fig,ax = plt.subplots(figsize = (15,6))\n",
        "plt.tight_layout()\n",
        "sns.catplot(data =df2,y ='int_rate', x ='loan_amnt_bins', hue ='loan_status',palette=\"pastel\",kind = 'box')"
      ]
    },
    {
      "cell_type": "markdown",
      "id": "ab2847a9",
      "metadata": {
        "id": "ab2847a9"
      },
      "source": [
        "### The interest rate for charged off loans is pretty high than that of fully paid loans in all the loan_amount bins. \n",
        "- This can be a pretty strong driving factor for loan defaulting."
      ]
    },
    {
      "cell_type": "code",
      "execution_count": null,
      "id": "d93d5786",
      "metadata": {
        "colab": {
          "base_uri": "https://localhost:8080/",
          "height": 386
        },
        "id": "d93d5786",
        "outputId": "12959ef0-14bc-4c1a-f9c3-ae01e11a63d1"
      },
      "outputs": [
        {
          "output_type": "execute_result",
          "data": {
            "text/plain": [
              "<seaborn.axisgrid.FacetGrid at 0x7f44a0ff8d10>"
            ]
          },
          "metadata": {},
          "execution_count": 232
        },
        {
          "output_type": "display_data",
          "data": {
            "text/plain": [
              "<Figure size 456.375x360 with 1 Axes>"
            ],
            "image/png": "[encoded data removed]"
          },
          "metadata": {
            "needs_background": "light"
          }
        }
      ],
      "source": [
        "sns.catplot(x = 'term', y = 'loan_amnt', data = df2,hue = 'loan_status', kind = 'bar')"
      ]
    },
    {
      "cell_type": "markdown",
      "id": "1761feda",
      "metadata": {
        "id": "1761feda"
      },
      "source": [
        "### Applicants who applied and defaulted have no significant difference in loan_amounts.\n",
        "- Which means that applicants applying for long term has applied for more loan. "
      ]
    },
    {
      "cell_type": "markdown",
      "id": "25e7ab38",
      "metadata": {
        "id": "25e7ab38"
      },
      "source": [
        "# Observations\n",
        "\n",
        "### The above analysis with respect to the charged off loans. There is a more probability of defaulting when : \n",
        "\n",
        "- Applicants taking loan for 'home improvement' and have income of 60k -70k\n",
        "- Applicants whose home ownership is 'MORTGAGE and have income of 60-70k\n",
        "- Applicants who receive interest at the rate of 21-24% and have an income of 70k-80k\n",
        "- Applicants who have taken a loan in the range 30k - 35k and are charged interest rate of 15-17.5 %\n",
        "- Applicants who have taken a loan for small business and the loan amount is greater than 14k\n",
        "- Applicants whose home ownership is 'MORTGAGE and have loan of 12k\n",
        "- When grade is F and loan amount is between 15k-20k\n",
        "- When employment length is 10yrs and loan amount is 12k-14k \n",
        "- When the income is verified and loan amount is above 14k\n",
        "- For grade G and interest rate above 20%"
      ]
    },
    {
      "cell_type": "code",
      "execution_count": null,
      "id": "05718732",
      "metadata": {
        "id": "05718732"
      },
      "outputs": [],
      "source": []
    },
    {
      "cell_type": "code",
      "execution_count": null,
      "id": "48e7403e",
      "metadata": {
        "id": "48e7403e"
      },
      "outputs": [],
      "source": []
    },
    {
      "cell_type": "code",
      "execution_count": null,
      "id": "7d3c8290",
      "metadata": {
        "id": "7d3c8290"
      },
      "outputs": [],
      "source": []
    },
    {
      "cell_type": "code",
      "execution_count": null,
      "id": "50354a83",
      "metadata": {
        "id": "50354a83"
      },
      "outputs": [],
      "source": []
    },
    {
      "cell_type": "code",
      "execution_count": null,
      "id": "ba4e8743",
      "metadata": {
        "id": "ba4e8743"
      },
      "outputs": [],
      "source": []
    },
    {
      "cell_type": "code",
      "execution_count": null,
      "id": "614a1338",
      "metadata": {
        "id": "614a1338"
      },
      "outputs": [],
      "source": []
    },
    {
      "cell_type": "code",
      "execution_count": null,
      "id": "dcb0ada2",
      "metadata": {
        "id": "dcb0ada2"
      },
      "outputs": [],
      "source": []
    },
    {
      "cell_type": "code",
      "execution_count": null,
      "id": "ab71a59d",
      "metadata": {
        "id": "ab71a59d"
      },
      "outputs": [],
      "source": []
    },
    {
      "cell_type": "code",
      "execution_count": null,
      "id": "73a0c41f",
      "metadata": {
        "id": "73a0c41f"
      },
      "outputs": [],
      "source": []
    },
    {
      "cell_type": "code",
      "execution_count": null,
      "id": "31f3f028",
      "metadata": {
        "id": "31f3f028"
      },
      "outputs": [],
      "source": []
    },
    {
      "cell_type": "code",
      "execution_count": null,
      "id": "1562cd02",
      "metadata": {
        "id": "1562cd02"
      },
      "outputs": [],
      "source": []
    },
    {
      "cell_type": "code",
      "execution_count": null,
      "id": "81797503",
      "metadata": {
        "id": "81797503"
      },
      "outputs": [],
      "source": []
    },
    {
      "cell_type": "code",
      "execution_count": null,
      "id": "93be160a",
      "metadata": {
        "id": "93be160a"
      },
      "outputs": [],
      "source": []
    },
    {
      "cell_type": "code",
      "execution_count": null,
      "id": "df53caf1",
      "metadata": {
        "id": "df53caf1"
      },
      "outputs": [],
      "source": []
    },
    {
      "cell_type": "code",
      "execution_count": null,
      "id": "512d8ae5",
      "metadata": {
        "id": "512d8ae5"
      },
      "outputs": [],
      "source": []
    },
    {
      "cell_type": "code",
      "execution_count": null,
      "id": "dad20aa6",
      "metadata": {
        "id": "dad20aa6"
      },
      "outputs": [],
      "source": []
    },
    {
      "cell_type": "code",
      "execution_count": null,
      "id": "c222194c",
      "metadata": {
        "id": "c222194c"
      },
      "outputs": [],
      "source": []
    },
    {
      "cell_type": "code",
      "execution_count": null,
      "id": "b1f92fd0",
      "metadata": {
        "id": "b1f92fd0"
      },
      "outputs": [],
      "source": []
    },
    {
      "cell_type": "code",
      "execution_count": null,
      "id": "14610851",
      "metadata": {
        "id": "14610851"
      },
      "outputs": [],
      "source": []
    },
    {
      "cell_type": "code",
      "execution_count": null,
      "id": "66ea06fe",
      "metadata": {
        "id": "66ea06fe"
      },
      "outputs": [],
      "source": []
    },
    {
      "cell_type": "code",
      "execution_count": null,
      "id": "1dba9ae7",
      "metadata": {
        "id": "1dba9ae7"
      },
      "outputs": [],
      "source": []
    },
    {
      "cell_type": "code",
      "execution_count": null,
      "id": "965c3194",
      "metadata": {
        "id": "965c3194"
      },
      "outputs": [],
      "source": []
    },
    {
      "cell_type": "code",
      "execution_count": null,
      "id": "a77d0f45",
      "metadata": {
        "id": "a77d0f45"
      },
      "outputs": [],
      "source": []
    },
    {
      "cell_type": "code",
      "execution_count": null,
      "id": "eadbf78e",
      "metadata": {
        "id": "eadbf78e"
      },
      "outputs": [],
      "source": []
    },
    {
      "cell_type": "code",
      "execution_count": null,
      "id": "af06b08b",
      "metadata": {
        "id": "af06b08b"
      },
      "outputs": [],
      "source": []
    },
    {
      "cell_type": "code",
      "execution_count": null,
      "id": "776a6fe3",
      "metadata": {
        "id": "776a6fe3"
      },
      "outputs": [],
      "source": []
    },
    {
      "cell_type": "code",
      "execution_count": null,
      "id": "e82f6e0f",
      "metadata": {
        "id": "e82f6e0f"
      },
      "outputs": [],
      "source": []
    },
    {
      "cell_type": "code",
      "execution_count": null,
      "id": "fd6d8406",
      "metadata": {
        "id": "fd6d8406"
      },
      "outputs": [],
      "source": []
    },
    {
      "cell_type": "code",
      "execution_count": null,
      "id": "39e538cd",
      "metadata": {
        "id": "39e538cd"
      },
      "outputs": [],
      "source": []
    },
    {
      "cell_type": "code",
      "execution_count": null,
      "id": "560746ef",
      "metadata": {
        "id": "560746ef"
      },
      "outputs": [],
      "source": []
    }
  ],
  "metadata": {
    "kernelspec": {
      "display_name": "Python 3 (ipykernel)",
      "language": "python",
      "name": "python3"
    },
    "language_info": {
      "codemirror_mode": {
        "name": "ipython",
        "version": 3
      },
      "file_extension": ".py",
      "mimetype": "text/x-python",
      "name": "python",
      "nbconvert_exporter": "python",
      "pygments_lexer": "ipython3",
      "version": "3.9.12"
    },
    "colab": {
      "provenance": [],
      "collapsed_sections": [
        "808bbbc5",
        "1761feda",
        "25e7ab38"
      ]
    }
  },
  "nbformat": 4,
  "nbformat_minor": 5
}